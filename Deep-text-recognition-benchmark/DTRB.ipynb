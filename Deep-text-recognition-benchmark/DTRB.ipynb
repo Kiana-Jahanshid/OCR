{
  "cells": [
    {
      "cell_type": "code",
      "execution_count": 1,
      "metadata": {
        "colab": {
          "base_uri": "https://localhost:8080/"
        },
        "id": "G4RS6-5KKquw",
        "outputId": "db0b3aab-98af-45d9-ea38-71b2ad34b4b3"
      },
      "outputs": [
        {
          "output_type": "stream",
          "name": "stdout",
          "text": [
            "Cloning into 'deep-text-recognition-benchmark'...\n",
            "remote: Enumerating objects: 499, done.\u001b[K\n",
            "remote: Counting objects: 100% (4/4), done.\u001b[K\n",
            "remote: Compressing objects: 100% (4/4), done.\u001b[K\n",
            "remote: Total 499 (delta 0), reused 1 (delta 0), pack-reused 495\u001b[K\n",
            "Receiving objects: 100% (499/499), 3.07 MiB | 6.50 MiB/s, done.\n",
            "Resolving deltas: 100% (301/301), done.\n"
          ]
        }
      ],
      "source": [
        "!git clone https://github.com/clovaai/deep-text-recognition-benchmark.git"
      ]
    },
    {
      "cell_type": "code",
      "execution_count": 2,
      "metadata": {
        "colab": {
          "base_uri": "https://localhost:8080/"
        },
        "id": "vG9Aqi-VL2Kf",
        "outputId": "07ab35b0-1885-4b55-bff8-9c5904c1e453"
      },
      "outputs": [
        {
          "output_type": "stream",
          "name": "stdout",
          "text": [
            "/content/deep-text-recognition-benchmark\n"
          ]
        }
      ],
      "source": [
        "%cd deep-text-recognition-benchmark"
      ]
    },
    {
      "cell_type": "markdown",
      "metadata": {
        "id": "iB7xzOnpMVLQ"
      },
      "source": [
        "# Run sample demo :"
      ]
    },
    {
      "cell_type": "markdown",
      "metadata": {
        "id": "b9U8mApjk_Wn"
      },
      "source": [
        "download pretrained weights : https://drive.google.com/drive/folders/15WPsuPJDCzhp2SvYZLRj8mAlT3zmoAMW"
      ]
    },
    {
      "cell_type": "markdown",
      "metadata": {
        "id": "DQJ3pNZlo2gi"
      },
      "source": [
        "download from google drive , using gdown\n"
      ]
    },
    {
      "cell_type": "code",
      "execution_count": 21,
      "metadata": {
        "colab": {
          "base_uri": "https://localhost:8080/"
        },
        "id": "ytXJhcHaMOCi",
        "outputId": "af6e29b9-2607-4155-8148-1f8ef5c75cc2"
      },
      "outputs": [
        {
          "output_type": "stream",
          "name": "stdout",
          "text": [
            "Downloading...\n",
            "From: https://drive.google.com/uc?id=1b59rXuGGmKne1AuHnkgDzoYgKeETNMv9\n",
            "To: /content/deep-text-recognition-benchmark/TPS-ResNet-BiLSTM-Attn.pth\n",
            "100% 199M/199M [00:02<00:00, 70.1MB/s]\n"
          ]
        }
      ],
      "source": [
        "!pip install -q gdown\n",
        "import gdown\n",
        "\n",
        "!gdown 1b59rXuGGmKne1AuHnkgDzoYgKeETNMv9  # file ID"
      ]
    },
    {
      "cell_type": "code",
      "execution_count": 22,
      "metadata": {
        "colab": {
          "base_uri": "https://localhost:8080/"
        },
        "id": "Qp2YG7G6qHUc",
        "outputId": "edd5b9f6-c661-4593-9f1c-1b54f131b0ed"
      },
      "outputs": [
        {
          "output_type": "stream",
          "name": "stdout",
          "text": [
            "Requirement already satisfied: lmdb in /usr/local/lib/python3.10/dist-packages (1.4.1)\n"
          ]
        }
      ],
      "source": [
        "!pip install lmdb"
      ]
    },
    {
      "cell_type": "code",
      "execution_count": null,
      "metadata": {
        "colab": {
          "base_uri": "https://localhost:8080/"
        },
        "id": "-RVKQCKipS1G",
        "outputId": "b9e30053-0107-4509-dac1-1c9d65f07b6b"
      },
      "outputs": [
        {
          "name": "stdout",
          "output_type": "stream",
          "text": [
            "model input parameters 32 100 20 1 512 256 38 25 TPS ResNet BiLSTM Attn\n",
            "loading pretrained model from TPS-ResNet-BiLSTM-Attn.pth\n",
            "/usr/local/lib/python3.10/dist-packages/torch/utils/data/dataloader.py:557: UserWarning: This DataLoader will create 4 worker processes in total. Our suggested max number of worker in current system is 2, which is smaller than what this DataLoader is going to create. Please be aware that excessive worker creation might get DataLoader running slow or even freeze, lower the worker number to avoid potential slowness/freeze if necessary.\n",
            "  warnings.warn(_create_warning_msg(\n",
            "--------------------------------------------------------------------------------\n",
            "image_path               \tpredicted_labels         \tconfidence score\n",
            "--------------------------------------------------------------------------------\n",
            "demo_image/demo_1.png    \tavailable                \t0.9999\n",
            "demo_image/demo_2.jpg    \tshakeshack               \t0.9530\n",
            "demo_image/demo_3.png    \tlondon                   \t0.9840\n",
            "demo_image/demo_4.png    \tgreenstead               \t0.9985\n",
            "demo_image/demo_5.png    \ttoast                    \t0.9961\n",
            "demo_image/demo_6.png    \tmerry                    \t0.9975\n",
            "demo_image/demo_7.png    \tunderground              \t1.0000\n",
            "demo_image/demo_8.jpg    \tronaldo                  \t0.8387\n",
            "demo_image/demo_9.jpg    \tbally                    \t0.7493\n",
            "demo_image/demo_10.jpg   \tuniversity               \t0.9998\n"
          ]
        }
      ],
      "source": [
        "!python3 demo.py \\\n",
        "--Transformation TPS --FeatureExtraction ResNet --SequenceModeling BiLSTM --Prediction Attn \\\n",
        "--image_folder demo_image/ \\\n",
        "--saved_model TPS-ResNet-BiLSTM-Attn.pth"
      ]
    },
    {
      "cell_type": "markdown",
      "metadata": {
        "id": "lCxdIPDVqU_Y"
      },
      "source": [
        "rooye 10 ta tasvire demo , dar file demo.py khorooji gereftan"
      ]
    },
    {
      "cell_type": "code",
      "execution_count": null,
      "metadata": {
        "id": "lO2N1y9IqMMC"
      },
      "outputs": [],
      "source": []
    },
    {
      "cell_type": "markdown",
      "metadata": {
        "id": "XjGipBVPrI_O"
      },
      "source": [
        "# train DTRB ON PERSIAN License Plate :"
      ]
    },
    {
      "cell_type": "markdown",
      "metadata": {
        "id": "JLN4N5ArrcC-"
      },
      "source": [
        "mikhaim az transfer learning estefade konim , va shabake RESNET dar bala ro ke ghablan train shode , rooye dataset khodemoon FINE TUNE konim"
      ]
    },
    {
      "cell_type": "markdown",
      "metadata": {
        "id": "nY8Fo387r5BJ"
      },
      "source": [
        "train our own non-latin dataset :"
      ]
    },
    {
      "cell_type": "markdown",
      "metadata": {
        "id": "zGppcIYjsJ8B"
      },
      "source": [
        "### WE NEED TO CREATE DATASET WITH lmdb FORMAT\n"
      ]
    },
    {
      "cell_type": "markdown",
      "metadata": {
        "id": "3si579QksXHU"
      },
      "source": [
        "data <br/>\n",
        "├── gt.txt <br/>\n",
        "└── test <br/>\n",
        "    ├── word_1.png <br/>\n",
        "    ├── word_2.png <br/>\n",
        "    ├── word_3.png <br/>\n",
        "    └── ... <br/>\n",
        "\n",
        "<br/>\n",
        " image address  --------    its text <br/>\n",
        "test/word_1.png -----  Tiredness <br/>\n",
        "test/word_2.png -----  kills <br/>\n",
        "test/word_3.png -----  A <br/>\n",
        "... <br/>"
      ]
    },
    {
      "cell_type": "markdown",
      "metadata": {
        "id": "5B7_mdJ5tqJt"
      },
      "source": [
        "# here , **LABELS ARE TEXTS IN IMAGES**"
      ]
    },
    {
      "cell_type": "markdown",
      "metadata": {
        "id": "jcwbOfP6t8Dn"
      },
      "source": [
        "یک فایل دات تی اکس تی میسازیم <br/>\n",
        "آدرس هر عکس با متن توش رو قرار میدیم<br/>\n",
        "یعنی یک پوشه دیتا پر از عکس به علاوه یک فایل جی تی تکست که لیبل ها توشه\n",
        "این ساختار رو میدیم به فایل <br/> creat_lmbd_dataset.py\n",
        "<br/>\n",
        "بعد این میاد از روی عکس ها یک فایل ال ام دی بی میسازه\n",
        "<br/>\n",
        "اون فایل ال ام دی بی رو میدیم به train.py\n",
        "<br/>\n",
        "روش ترین بشه\n"
      ]
    },
    {
      "cell_type": "markdown",
      "metadata": {
        "id": "n81h19b6vT3z"
      },
      "source": [
        "میایم توی فولدری که ساخته شده به نام دیپ تکست ریکاگنیشن یک فولدر ایجاد می کنیم به نام دیتا\n",
        "<br/>\n",
        "\n",
        "توی این فولدر یک فایل gt.txt  میسازیم\n",
        "<br/>\n",
        "\n",
        "و بعد یک فولدر که عکس ها رو بزاریم توش\n",
        "به نام ترین\n",
        "<br/>\n",
        "\n",
        "یک فولدر دیگه هم به نام ولیدیشین ایجاد میکنیم\n",
        "\n",
        "<br/>\n",
        "پس حالا چون دو تا فولدر داریم باید دو تا فایل جی تی هم داشته باشیم برای هرکدوم\n",
        "gt_train.txt\n",
        "gt_validation.txt\n",
        "\n",
        "### نکته : بین اسم فایل و متن مربوطه اش نباید اسپیس باشه بلکه باید یک تب بزنیم\n",
        "\n",
        "<br/>\n",
        "\n",
        "\n",
        "حالا میریم توی وی اس کد و اونجا فایل تکست رو میسازیم\n",
        "آدرس عکس + متن تصویر\n",
        "<br/>\n",
        "\n",
        "## Labeling :\n",
        "train/46469fhdhsj.jpg  13M89422\n",
        "train/834uy884848.jpg  74K48495 <br/>\n",
        ". <br/>\n",
        ". <br/>\n",
        ". <br/>\n",
        "<br/>\n",
        "in validation txt file :<br/>\n",
        "validtaion/h83y3rh7r.jpg  23Y94355\n",
        "\n",
        "\n",
        "\n",
        "حالا باید کتابخونه فایر رو نصب کنیم :"
      ]
    },
    {
      "cell_type": "code",
      "execution_count": 23,
      "metadata": {
        "id": "QX7Xismj195f"
      },
      "outputs": [],
      "source": [
        "!pip install -q fire"
      ]
    },
    {
      "cell_type": "markdown",
      "metadata": {
        "id": "A-JiF4Pn2EWH"
      },
      "source": [
        "حالا گفته فایل create_lmdb_dataset.py <br/>\n",
        "رو اجرا بکن"
      ]
    },
    {
      "cell_type": "markdown",
      "metadata": {
        "id": "4Iwfv7Jd2sXE"
      },
      "source": [
        "یک پوشه دیتاست ایجادد می کنیم و بعد داخلش یک فولدر ترین ایجاد می کنیم تا نتایج کد پایین رو اون تو ذخیره کنه\n",
        "<br/>\n",
        "deep-text-recognition-...  --->  dataset ---> train\n"
      ]
    },
    {
      "cell_type": "code",
      "execution_count": 24,
      "metadata": {
        "colab": {
          "base_uri": "https://localhost:8080/"
        },
        "id": "HpHDYZNv2Y0g",
        "outputId": "7420e238-d17e-440c-e83a-54bb0dd1d9b1"
      },
      "outputs": [
        {
          "output_type": "stream",
          "name": "stdout",
          "text": [
            "Written 1000 / 19453\n",
            "Written 2000 / 19453\n",
            "Written 3000 / 19453\n",
            "Written 4000 / 19453\n",
            "Written 5000 / 19453\n",
            "Written 6000 / 19453\n",
            "Written 7000 / 19453\n",
            "Written 8000 / 19453\n",
            "Written 9000 / 19453\n",
            "Written 10000 / 19453\n",
            "Written 11000 / 19453\n",
            "Written 12000 / 19453\n",
            "Written 13000 / 19453\n",
            "Written 14000 / 19453\n",
            "Written 15000 / 19453\n",
            "Written 16000 / 19453\n",
            "Written 17000 / 19453\n",
            "Written 18000 / 19453\n",
            "Written 19000 / 19453\n",
            "Created dataset with 19453 samples\n"
          ]
        }
      ],
      "source": [
        "!python3 /content/drive/MyDrive/deep-text-recognition-benchmark/create_lmdb_dataset.py --inputPath /content/drive/MyDrive/deep-text-recognition-benchmark/data/ --gtFile /content/drive/MyDrive/deep-text-recognition-benchmark/data/gt_train_copy.txt --outputPath /content/drive/MyDrive/deep-text-recognition-benchmark/dataset/train"
      ]
    },
    {
      "cell_type": "markdown",
      "metadata": {
        "id": "st4TClYx2gbM"
      },
      "source": [
        "اینجا یک دیتاست ساخته شد\n",
        "\n",
        "از روی عکس ها و لیبل ها اومد و فایل ام دی بی ساخت در آدرس زیر ⁉ <br/>\n",
        "\n",
        "dataset --> train  ----> data.mdb"
      ]
    },
    {
      "cell_type": "markdown",
      "metadata": {
        "id": "6fq4J0xA2gXs"
      },
      "source": [
        "# az file haye .mdb dar TRAIN estefade mikone"
      ]
    },
    {
      "cell_type": "markdown",
      "metadata": {
        "id": "AxVYETei4sDY"
      },
      "source": [
        "حالا همین مسیر رو برای ولیدیشن انجام میدیم:\n",
        "<br/>\n",
        "و میگیم در این مسیر ذخیره کن نتایج و فایل های ام دی بی رو\n",
        "<br/>\n",
        "deep-text-recognition... / dataset / validation"
      ]
    },
    {
      "cell_type": "code",
      "execution_count": 25,
      "metadata": {
        "colab": {
          "base_uri": "https://localhost:8080/"
        },
        "id": "IExIczyo4qai",
        "outputId": "ae5032a0-fd18-42cf-edda-8000f428a067"
      },
      "outputs": [
        {
          "output_type": "stream",
          "name": "stdout",
          "text": [
            "Written 1000 / 2815\n",
            "Written 2000 / 2815\n",
            "Created dataset with 2815 samples\n"
          ]
        }
      ],
      "source": [
        "!python3 /content/drive/MyDrive/deep-text-recognition-benchmark/create_lmdb_dataset.py --inputPath /content/drive/MyDrive/deep-text-recognition-benchmark/data/ --gtFile /content/drive/MyDrive/deep-text-recognition-benchmark/data/gt_validation_copy.txt --outputPath /content/drive/MyDrive/deep-text-recognition-benchmark/dataset/validation"
      ]
    },
    {
      "cell_type": "markdown",
      "metadata": {
        "id": "5bZKdeJZ5mOO"
      },
      "source": []
    },
    {
      "cell_type": "markdown",
      "metadata": {
        "id": "THZYgp_q5xrX"
      },
      "source": [
        "# TRAIN :"
      ]
    },
    {
      "cell_type": "code",
      "execution_count": null,
      "metadata": {
        "colab": {
          "base_uri": "https://localhost:8080/"
        },
        "id": "xXaHxGgmrBEN",
        "outputId": "1467e3e7-97af-4cfe-a593-cec6498932d8"
      },
      "outputs": [
        {
          "output_type": "stream",
          "name": "stdout",
          "text": [
            "Filtering the images containing characters which are not in opt.character\n",
            "Filtering the images whose label is longer than opt.batch_max_length\n",
            "--------------------------------------------------------------------------------\n",
            "dataset_root: /content/drive/MyDrive/deep-text-recognition-benchmark/dataset/train\n",
            "opt.select_data: ['/']\n",
            "opt.batch_ratio: ['1']\n",
            "--------------------------------------------------------------------------------\n",
            "dataset_root:    /content/drive/MyDrive/deep-text-recognition-benchmark/dataset/train\t dataset: /\n",
            "sub-directory:\t/.\t num samples: 19355\n",
            "num total samples of /: 19355 x 1.0 (total_data_usage_ratio) = 19355\n",
            "num samples of / per batch: 192 x 1.0 (batch_ratio) = 192\n",
            "/usr/local/lib/python3.10/dist-packages/torch/utils/data/dataloader.py:557: UserWarning: This DataLoader will create 4 worker processes in total. Our suggested max number of worker in current system is 2, which is smaller than what this DataLoader is going to create. Please be aware that excessive worker creation might get DataLoader running slow or even freeze, lower the worker number to avoid potential slowness/freeze if necessary.\n",
            "  warnings.warn(_create_warning_msg(\n",
            "--------------------------------------------------------------------------------\n",
            "Total_batch_size: 192 = 192\n",
            "--------------------------------------------------------------------------------\n",
            "dataset_root:    /content/drive/MyDrive/deep-text-recognition-benchmark/dataset/validation\t dataset: /\n",
            "sub-directory:\t/.\t num samples: 2801\n",
            "--------------------------------------------------------------------------------\n",
            "model input parameters 32 100 20 1 512 256 38 8 TPS ResNet BiLSTM Attn\n",
            "Skip Transformation.LocalizationNetwork.localization_fc2.weight as it is already initialized\n",
            "Skip Transformation.LocalizationNetwork.localization_fc2.bias as it is already initialized\n",
            "Model:\n",
            "DataParallel(\n",
            "  (module): Model(\n",
            "    (Transformation): TPS_SpatialTransformerNetwork(\n",
            "      (LocalizationNetwork): LocalizationNetwork(\n",
            "        (conv): Sequential(\n",
            "          (0): Conv2d(1, 64, kernel_size=(3, 3), stride=(1, 1), padding=(1, 1), bias=False)\n",
            "          (1): BatchNorm2d(64, eps=1e-05, momentum=0.1, affine=True, track_running_stats=True)\n",
            "          (2): ReLU(inplace=True)\n",
            "          (3): MaxPool2d(kernel_size=2, stride=2, padding=0, dilation=1, ceil_mode=False)\n",
            "          (4): Conv2d(64, 128, kernel_size=(3, 3), stride=(1, 1), padding=(1, 1), bias=False)\n",
            "          (5): BatchNorm2d(128, eps=1e-05, momentum=0.1, affine=True, track_running_stats=True)\n",
            "          (6): ReLU(inplace=True)\n",
            "          (7): MaxPool2d(kernel_size=2, stride=2, padding=0, dilation=1, ceil_mode=False)\n",
            "          (8): Conv2d(128, 256, kernel_size=(3, 3), stride=(1, 1), padding=(1, 1), bias=False)\n",
            "          (9): BatchNorm2d(256, eps=1e-05, momentum=0.1, affine=True, track_running_stats=True)\n",
            "          (10): ReLU(inplace=True)\n",
            "          (11): MaxPool2d(kernel_size=2, stride=2, padding=0, dilation=1, ceil_mode=False)\n",
            "          (12): Conv2d(256, 512, kernel_size=(3, 3), stride=(1, 1), padding=(1, 1), bias=False)\n",
            "          (13): BatchNorm2d(512, eps=1e-05, momentum=0.1, affine=True, track_running_stats=True)\n",
            "          (14): ReLU(inplace=True)\n",
            "          (15): AdaptiveAvgPool2d(output_size=1)\n",
            "        )\n",
            "        (localization_fc1): Sequential(\n",
            "          (0): Linear(in_features=512, out_features=256, bias=True)\n",
            "          (1): ReLU(inplace=True)\n",
            "        )\n",
            "        (localization_fc2): Linear(in_features=256, out_features=40, bias=True)\n",
            "      )\n",
            "      (GridGenerator): GridGenerator()\n",
            "    )\n",
            "    (FeatureExtraction): ResNet_FeatureExtractor(\n",
            "      (ConvNet): ResNet(\n",
            "        (conv0_1): Conv2d(1, 32, kernel_size=(3, 3), stride=(1, 1), padding=(1, 1), bias=False)\n",
            "        (bn0_1): BatchNorm2d(32, eps=1e-05, momentum=0.1, affine=True, track_running_stats=True)\n",
            "        (conv0_2): Conv2d(32, 64, kernel_size=(3, 3), stride=(1, 1), padding=(1, 1), bias=False)\n",
            "        (bn0_2): BatchNorm2d(64, eps=1e-05, momentum=0.1, affine=True, track_running_stats=True)\n",
            "        (relu): ReLU(inplace=True)\n",
            "        (maxpool1): MaxPool2d(kernel_size=2, stride=2, padding=0, dilation=1, ceil_mode=False)\n",
            "        (layer1): Sequential(\n",
            "          (0): BasicBlock(\n",
            "            (conv1): Conv2d(64, 128, kernel_size=(3, 3), stride=(1, 1), padding=(1, 1), bias=False)\n",
            "            (bn1): BatchNorm2d(128, eps=1e-05, momentum=0.1, affine=True, track_running_stats=True)\n",
            "            (conv2): Conv2d(128, 128, kernel_size=(3, 3), stride=(1, 1), padding=(1, 1), bias=False)\n",
            "            (bn2): BatchNorm2d(128, eps=1e-05, momentum=0.1, affine=True, track_running_stats=True)\n",
            "            (relu): ReLU(inplace=True)\n",
            "            (downsample): Sequential(\n",
            "              (0): Conv2d(64, 128, kernel_size=(1, 1), stride=(1, 1), bias=False)\n",
            "              (1): BatchNorm2d(128, eps=1e-05, momentum=0.1, affine=True, track_running_stats=True)\n",
            "            )\n",
            "          )\n",
            "        )\n",
            "        (conv1): Conv2d(128, 128, kernel_size=(3, 3), stride=(1, 1), padding=(1, 1), bias=False)\n",
            "        (bn1): BatchNorm2d(128, eps=1e-05, momentum=0.1, affine=True, track_running_stats=True)\n",
            "        (maxpool2): MaxPool2d(kernel_size=2, stride=2, padding=0, dilation=1, ceil_mode=False)\n",
            "        (layer2): Sequential(\n",
            "          (0): BasicBlock(\n",
            "            (conv1): Conv2d(128, 256, kernel_size=(3, 3), stride=(1, 1), padding=(1, 1), bias=False)\n",
            "            (bn1): BatchNorm2d(256, eps=1e-05, momentum=0.1, affine=True, track_running_stats=True)\n",
            "            (conv2): Conv2d(256, 256, kernel_size=(3, 3), stride=(1, 1), padding=(1, 1), bias=False)\n",
            "            (bn2): BatchNorm2d(256, eps=1e-05, momentum=0.1, affine=True, track_running_stats=True)\n",
            "            (relu): ReLU(inplace=True)\n",
            "            (downsample): Sequential(\n",
            "              (0): Conv2d(128, 256, kernel_size=(1, 1), stride=(1, 1), bias=False)\n",
            "              (1): BatchNorm2d(256, eps=1e-05, momentum=0.1, affine=True, track_running_stats=True)\n",
            "            )\n",
            "          )\n",
            "          (1): BasicBlock(\n",
            "            (conv1): Conv2d(256, 256, kernel_size=(3, 3), stride=(1, 1), padding=(1, 1), bias=False)\n",
            "            (bn1): BatchNorm2d(256, eps=1e-05, momentum=0.1, affine=True, track_running_stats=True)\n",
            "            (conv2): Conv2d(256, 256, kernel_size=(3, 3), stride=(1, 1), padding=(1, 1), bias=False)\n",
            "            (bn2): BatchNorm2d(256, eps=1e-05, momentum=0.1, affine=True, track_running_stats=True)\n",
            "            (relu): ReLU(inplace=True)\n",
            "          )\n",
            "        )\n",
            "        (conv2): Conv2d(256, 256, kernel_size=(3, 3), stride=(1, 1), padding=(1, 1), bias=False)\n",
            "        (bn2): BatchNorm2d(256, eps=1e-05, momentum=0.1, affine=True, track_running_stats=True)\n",
            "        (maxpool3): MaxPool2d(kernel_size=2, stride=(2, 1), padding=(0, 1), dilation=1, ceil_mode=False)\n",
            "        (layer3): Sequential(\n",
            "          (0): BasicBlock(\n",
            "            (conv1): Conv2d(256, 512, kernel_size=(3, 3), stride=(1, 1), padding=(1, 1), bias=False)\n",
            "            (bn1): BatchNorm2d(512, eps=1e-05, momentum=0.1, affine=True, track_running_stats=True)\n",
            "            (conv2): Conv2d(512, 512, kernel_size=(3, 3), stride=(1, 1), padding=(1, 1), bias=False)\n",
            "            (bn2): BatchNorm2d(512, eps=1e-05, momentum=0.1, affine=True, track_running_stats=True)\n",
            "            (relu): ReLU(inplace=True)\n",
            "            (downsample): Sequential(\n",
            "              (0): Conv2d(256, 512, kernel_size=(1, 1), stride=(1, 1), bias=False)\n",
            "              (1): BatchNorm2d(512, eps=1e-05, momentum=0.1, affine=True, track_running_stats=True)\n",
            "            )\n",
            "          )\n",
            "          (1): BasicBlock(\n",
            "            (conv1): Conv2d(512, 512, kernel_size=(3, 3), stride=(1, 1), padding=(1, 1), bias=False)\n",
            "            (bn1): BatchNorm2d(512, eps=1e-05, momentum=0.1, affine=True, track_running_stats=True)\n",
            "            (conv2): Conv2d(512, 512, kernel_size=(3, 3), stride=(1, 1), padding=(1, 1), bias=False)\n",
            "            (bn2): BatchNorm2d(512, eps=1e-05, momentum=0.1, affine=True, track_running_stats=True)\n",
            "            (relu): ReLU(inplace=True)\n",
            "          )\n",
            "          (2): BasicBlock(\n",
            "            (conv1): Conv2d(512, 512, kernel_size=(3, 3), stride=(1, 1), padding=(1, 1), bias=False)\n",
            "            (bn1): BatchNorm2d(512, eps=1e-05, momentum=0.1, affine=True, track_running_stats=True)\n",
            "            (conv2): Conv2d(512, 512, kernel_size=(3, 3), stride=(1, 1), padding=(1, 1), bias=False)\n",
            "            (bn2): BatchNorm2d(512, eps=1e-05, momentum=0.1, affine=True, track_running_stats=True)\n",
            "            (relu): ReLU(inplace=True)\n",
            "          )\n",
            "          (3): BasicBlock(\n",
            "            (conv1): Conv2d(512, 512, kernel_size=(3, 3), stride=(1, 1), padding=(1, 1), bias=False)\n",
            "            (bn1): BatchNorm2d(512, eps=1e-05, momentum=0.1, affine=True, track_running_stats=True)\n",
            "            (conv2): Conv2d(512, 512, kernel_size=(3, 3), stride=(1, 1), padding=(1, 1), bias=False)\n",
            "            (bn2): BatchNorm2d(512, eps=1e-05, momentum=0.1, affine=True, track_running_stats=True)\n",
            "            (relu): ReLU(inplace=True)\n",
            "          )\n",
            "          (4): BasicBlock(\n",
            "            (conv1): Conv2d(512, 512, kernel_size=(3, 3), stride=(1, 1), padding=(1, 1), bias=False)\n",
            "            (bn1): BatchNorm2d(512, eps=1e-05, momentum=0.1, affine=True, track_running_stats=True)\n",
            "            (conv2): Conv2d(512, 512, kernel_size=(3, 3), stride=(1, 1), padding=(1, 1), bias=False)\n",
            "            (bn2): BatchNorm2d(512, eps=1e-05, momentum=0.1, affine=True, track_running_stats=True)\n",
            "            (relu): ReLU(inplace=True)\n",
            "          )\n",
            "        )\n",
            "        (conv3): Conv2d(512, 512, kernel_size=(3, 3), stride=(1, 1), padding=(1, 1), bias=False)\n",
            "        (bn3): BatchNorm2d(512, eps=1e-05, momentum=0.1, affine=True, track_running_stats=True)\n",
            "        (layer4): Sequential(\n",
            "          (0): BasicBlock(\n",
            "            (conv1): Conv2d(512, 512, kernel_size=(3, 3), stride=(1, 1), padding=(1, 1), bias=False)\n",
            "            (bn1): BatchNorm2d(512, eps=1e-05, momentum=0.1, affine=True, track_running_stats=True)\n",
            "            (conv2): Conv2d(512, 512, kernel_size=(3, 3), stride=(1, 1), padding=(1, 1), bias=False)\n",
            "            (bn2): BatchNorm2d(512, eps=1e-05, momentum=0.1, affine=True, track_running_stats=True)\n",
            "            (relu): ReLU(inplace=True)\n",
            "          )\n",
            "          (1): BasicBlock(\n",
            "            (conv1): Conv2d(512, 512, kernel_size=(3, 3), stride=(1, 1), padding=(1, 1), bias=False)\n",
            "            (bn1): BatchNorm2d(512, eps=1e-05, momentum=0.1, affine=True, track_running_stats=True)\n",
            "            (conv2): Conv2d(512, 512, kernel_size=(3, 3), stride=(1, 1), padding=(1, 1), bias=False)\n",
            "            (bn2): BatchNorm2d(512, eps=1e-05, momentum=0.1, affine=True, track_running_stats=True)\n",
            "            (relu): ReLU(inplace=True)\n",
            "          )\n",
            "          (2): BasicBlock(\n",
            "            (conv1): Conv2d(512, 512, kernel_size=(3, 3), stride=(1, 1), padding=(1, 1), bias=False)\n",
            "            (bn1): BatchNorm2d(512, eps=1e-05, momentum=0.1, affine=True, track_running_stats=True)\n",
            "            (conv2): Conv2d(512, 512, kernel_size=(3, 3), stride=(1, 1), padding=(1, 1), bias=False)\n",
            "            (bn2): BatchNorm2d(512, eps=1e-05, momentum=0.1, affine=True, track_running_stats=True)\n",
            "            (relu): ReLU(inplace=True)\n",
            "          )\n",
            "        )\n",
            "        (conv4_1): Conv2d(512, 512, kernel_size=(2, 2), stride=(2, 1), padding=(0, 1), bias=False)\n",
            "        (bn4_1): BatchNorm2d(512, eps=1e-05, momentum=0.1, affine=True, track_running_stats=True)\n",
            "        (conv4_2): Conv2d(512, 512, kernel_size=(2, 2), stride=(1, 1), bias=False)\n",
            "        (bn4_2): BatchNorm2d(512, eps=1e-05, momentum=0.1, affine=True, track_running_stats=True)\n",
            "      )\n",
            "    )\n",
            "    (AdaptiveAvgPool): AdaptiveAvgPool2d(output_size=(None, 1))\n",
            "    (SequenceModeling): Sequential(\n",
            "      (0): BidirectionalLSTM(\n",
            "        (rnn): LSTM(512, 256, batch_first=True, bidirectional=True)\n",
            "        (linear): Linear(in_features=512, out_features=256, bias=True)\n",
            "      )\n",
            "      (1): BidirectionalLSTM(\n",
            "        (rnn): LSTM(256, 256, batch_first=True, bidirectional=True)\n",
            "        (linear): Linear(in_features=512, out_features=256, bias=True)\n",
            "      )\n",
            "    )\n",
            "    (Prediction): Attention(\n",
            "      (attention_cell): AttentionCell(\n",
            "        (i2h): Linear(in_features=256, out_features=256, bias=False)\n",
            "        (h2h): Linear(in_features=256, out_features=256, bias=True)\n",
            "        (score): Linear(in_features=256, out_features=1, bias=False)\n",
            "        (rnn): LSTMCell(294, 256)\n",
            "      )\n",
            "      (generator): Linear(in_features=256, out_features=38, bias=True)\n",
            "    )\n",
            "  )\n",
            ")\n",
            "Trainable params num :  49555182\n",
            "Optimizer:\n",
            "Adadelta (\n",
            "Parameter Group 0\n",
            "    differentiable: False\n",
            "    eps: 1e-08\n",
            "    foreach: None\n",
            "    lr: 1\n",
            "    maximize: False\n",
            "    rho: 0.95\n",
            "    weight_decay: 0\n",
            ")\n",
            "------------ Options -------------\n",
            "exp_name: TPS-ResNet-BiLSTM-Attn-Seed1111\n",
            "train_data: /content/drive/MyDrive/deep-text-recognition-benchmark/dataset/train\n",
            "valid_data: /content/drive/MyDrive/deep-text-recognition-benchmark/dataset/validation\n",
            "manualSeed: 1111\n",
            "workers: 4\n",
            "batch_size: 192\n",
            "num_iter: 30000\n",
            "valInterval: 100\n",
            "saved_model: \n",
            "FT: False\n",
            "adam: False\n",
            "lr: 1\n",
            "beta1: 0.9\n",
            "rho: 0.95\n",
            "eps: 1e-08\n",
            "grad_clip: 5\n",
            "baiduCTC: False\n",
            "select_data: ['/']\n",
            "batch_ratio: ['1']\n",
            "total_data_usage_ratio: 1.0\n",
            "batch_max_length: 8\n",
            "imgH: 32\n",
            "imgW: 100\n",
            "rgb: False\n",
            "character: 0123456789abcdefghijklmnopqrstuvwxyz\n",
            "sensitive: False\n",
            "PAD: False\n",
            "data_filtering_off: False\n",
            "Transformation: TPS\n",
            "FeatureExtraction: ResNet\n",
            "SequenceModeling: BiLSTM\n",
            "Prediction: Attn\n",
            "num_fiducial: 20\n",
            "input_channel: 1\n",
            "output_channel: 512\n",
            "hidden_size: 256\n",
            "num_gpu: 1\n",
            "num_class: 38\n",
            "---------------------------------------\n",
            "\n",
            "[1/30000] Train loss: 3.66058, Valid loss: 3.55065, Elapsed_time: 16.65594\n",
            "Current_accuracy : 0.000, Current_norm_ED  : 0.05\n",
            "Best_accuracy    : 0.000, Best_norm_ED     : 0.05\n",
            "--------------------------------------------------------------------------------\n",
            "Ground Truth              | Prediction                | Confidence Score & T/F\n",
            "--------------------------------------------------------------------------------\n",
            "74u19423                  | 222222qq                  | 0.0000\tFalse\n",
            "79r7610                   | qqqqqqqq                  | 0.0000\tFalse\n",
            "63r51232                  | kqqqqqqq                  | 0.0000\tFalse\n",
            "54r27655                  | kqqqqqqq                  | 0.0000\tFalse\n",
            "28n51133                  | k222222k                  | 0.0000\tFalse\n",
            "--------------------------------------------------------------------------------\n",
            "[100/30000] Train loss: 2.63876, Valid loss: 2.38286, Elapsed_time: 124.29100\n",
            "Current_accuracy : 0.000, Current_norm_ED  : 0.15\n",
            "Best_accuracy    : 0.000, Best_norm_ED     : 0.15\n",
            "--------------------------------------------------------------------------------\n",
            "Ground Truth              | Prediction                | Confidence Score & T/F\n",
            "--------------------------------------------------------------------------------\n",
            "24b59122                  | 555551                    | 0.0000\tFalse\n",
            "61h59863                  | 555551                    | 0.0000\tFalse\n",
            "45b44698                  | 557511                    | 0.0000\tFalse\n",
            "42e63168                  | 557711                    | 0.0000\tFalse\n",
            "21n68893                  | 557711                    | 0.0000\tFalse\n",
            "--------------------------------------------------------------------------------\n",
            "[200/30000] Train loss: 2.27871, Valid loss: 2.15870, Elapsed_time: 248.85525\n",
            "Current_accuracy : 0.000, Current_norm_ED  : 0.15\n",
            "Best_accuracy    : 0.000, Best_norm_ED     : 0.15\n",
            "--------------------------------------------------------------------------------\n",
            "Ground Truth              | Prediction                | Confidence Score & T/F\n",
            "--------------------------------------------------------------------------------\n",
            "72i85724                  | 55q55555                  | 0.0000\tFalse\n",
            "94n92322                  | 24u64444                  | 0.0000\tFalse\n",
            "58i36488                  | 18q85111                  | 0.0000\tFalse\n",
            "69t67232                  | 14w44116                  | 0.0000\tFalse\n",
            "17m85855                  | 18w45911                  | 0.0000\tFalse\n",
            "--------------------------------------------------------------------------------\n",
            "[300/30000] Train loss: 2.08696, Valid loss: 2.02780, Elapsed_time: 362.22438\n",
            "Current_accuracy : 0.000, Current_norm_ED  : 0.20\n",
            "Best_accuracy    : 0.000, Best_norm_ED     : 0.20\n",
            "--------------------------------------------------------------------------------\n",
            "Ground Truth              | Prediction                | Confidence Score & T/F\n",
            "--------------------------------------------------------------------------------\n",
            "54q16229                  | 55u44444                  | 0.0000\tFalse\n",
            "22h31516                  | 22w55596                  | 0.0000\tFalse\n",
            "61i57810                  | 66u55510                  | 0.0000\tFalse\n",
            "78c69616                  | 66u66110                  | 0.0000\tFalse\n",
            "29n54611                  | 24w44110                  | 0.0000\tFalse\n",
            "--------------------------------------------------------------------------------\n",
            "[400/30000] Train loss: 1.85445, Valid loss: 1.57154, Elapsed_time: 475.99521\n",
            "Current_accuracy : 0.000, Current_norm_ED  : 0.43\n",
            "Best_accuracy    : 0.000, Best_norm_ED     : 0.43\n",
            "--------------------------------------------------------------------------------\n",
            "Ground Truth              | Prediction                | Confidence Score & T/F\n",
            "--------------------------------------------------------------------------------\n",
            "49r55188                  | 99q55588                  | 0.0022\tFalse\n",
            "63j66798                  | 66u66698                  | 0.0005\tFalse\n",
            "73l53766                  | 22w55666                  | 0.0001\tFalse\n",
            "63w29578                  | 44r9555                   | 0.0000\tFalse\n",
            "24e67955                  | 46j6655                   | 0.0001\tFalse\n",
            "--------------------------------------------------------------------------------\n",
            "[500/30000] Train loss: 1.25884, Valid loss: 1.24378, Elapsed_time: 589.44180\n",
            "Current_accuracy : 0.357, Current_norm_ED  : 0.56\n",
            "Best_accuracy    : 0.357, Best_norm_ED     : 0.56\n",
            "--------------------------------------------------------------------------------\n",
            "Ground Truth              | Prediction                | Confidence Score & T/F\n",
            "--------------------------------------------------------------------------------\n",
            "47l5855                   | 95r55555                  | 0.0062\tFalse\n",
            "33j59110                  | 33w55110                  | 0.0076\tFalse\n",
            "52v31699                  | 53w31999                  | 0.0142\tFalse\n",
            "59m43878                  | 51w48888                  | 0.0370\tFalse\n",
            "84u37699                  | 84u36999                  | 0.0124\tFalse\n",
            "--------------------------------------------------------------------------------\n",
            "[600/30000] Train loss: 0.66816, Valid loss: 0.45823, Elapsed_time: 703.78971\n",
            "Current_accuracy : 62.014, Current_norm_ED  : 0.90\n",
            "Best_accuracy    : 62.014, Best_norm_ED     : 0.90\n",
            "--------------------------------------------------------------------------------\n",
            "Ground Truth              | Prediction                | Confidence Score & T/F\n",
            "--------------------------------------------------------------------------------\n",
            "48v69288                  | 48v69288                  | 0.4636\tTrue\n",
            "34v79934                  | 34v79934                  | 0.4188\tTrue\n",
            "76c59999                  | 76u59999                  | 0.1481\tFalse\n",
            "95j44667                  | 95j47466                  | 0.4162\tFalse\n",
            "65r37718                  | 65r37718                  | 0.3955\tTrue\n",
            "--------------------------------------------------------------------------------\n",
            "[700/30000] Train loss: 0.42199, Valid loss: 0.38355, Elapsed_time: 820.01199\n",
            "Current_accuracy : 70.189, Current_norm_ED  : 0.92\n",
            "Best_accuracy    : 70.189, Best_norm_ED     : 0.92\n",
            "--------------------------------------------------------------------------------\n",
            "Ground Truth              | Prediction                | Confidence Score & T/F\n",
            "--------------------------------------------------------------------------------\n",
            "23n78899                  | 23n78899                  | 0.5871\tTrue\n",
            "14l33644                  | 14l33644                  | 0.5426\tTrue\n",
            "93m78755                  | 93m78755                  | 0.4123\tTrue\n",
            "71i56855                  | 71i56855                  | 0.4296\tTrue\n",
            "38u96116                  | 38u96116                  | 0.4007\tTrue\n",
            "--------------------------------------------------------------------------------\n",
            "[800/30000] Train loss: 0.33425, Valid loss: 0.34948, Elapsed_time: 933.47575\n",
            "Current_accuracy : 76.294, Current_norm_ED  : 0.92\n",
            "Best_accuracy    : 76.294, Best_norm_ED     : 0.92\n",
            "--------------------------------------------------------------------------------\n",
            "Ground Truth              | Prediction                | Confidence Score & T/F\n",
            "--------------------------------------------------------------------------------\n",
            "28w14428                  | 28w14284                  | 0.7237\tFalse\n",
            "86i33788                  | 66t33                     | 0.0351\tFalse\n",
            "82i14244                  | 82i14244                  | 0.7129\tTrue\n",
            "19m98698                  | 19m98698                  | 0.6421\tTrue\n",
            "94e54533                  | 94e54533                  | 0.3807\tTrue\n",
            "--------------------------------------------------------------------------------\n",
            "[900/30000] Train loss: 0.29146, Valid loss: 0.34690, Elapsed_time: 1047.00092\n",
            "Current_accuracy : 74.438, Current_norm_ED  : 0.92\n",
            "Best_accuracy    : 76.294, Best_norm_ED     : 0.92\n",
            "--------------------------------------------------------------------------------\n",
            "Ground Truth              | Prediction                | Confidence Score & T/F\n",
            "--------------------------------------------------------------------------------\n",
            "21m97732                  | 21m97733                  | 0.4051\tFalse\n",
            "24c53120                  | 24c52120                  | 0.1583\tFalse\n",
            "78l23238                  | 78l23238                  | 0.6263\tTrue\n",
            "73c48210                  | 73c48210                  | 0.4346\tTrue\n",
            "89c9474                   | 89u947                    | 0.2121\tFalse\n",
            "--------------------------------------------------------------------------------\n",
            "[1000/30000] Train loss: 0.29496, Valid loss: 0.32012, Elapsed_time: 1159.35036\n",
            "Current_accuracy : 76.580, Current_norm_ED  : 0.92\n",
            "Best_accuracy    : 76.580, Best_norm_ED     : 0.92\n",
            "--------------------------------------------------------------------------------\n",
            "Ground Truth              | Prediction                | Confidence Score & T/F\n",
            "--------------------------------------------------------------------------------\n",
            "82u68168                  | 82u68168                  | 0.7736\tTrue\n",
            "75m2594                   | 75m77599                  | 0.0934\tFalse\n",
            "42b37116                  | 42b37116                  | 0.2121\tTrue\n",
            "76h52922                  | 76h52922                  | 0.8953\tTrue\n",
            "96j46718                  | 96j46718                  | 0.8971\tTrue\n",
            "--------------------------------------------------------------------------------\n",
            "[1100/30000] Train loss: 0.23962, Valid loss: 0.34548, Elapsed_time: 1272.94069\n",
            "Current_accuracy : 73.759, Current_norm_ED  : 0.92\n",
            "Best_accuracy    : 76.580, Best_norm_ED     : 0.92\n",
            "--------------------------------------------------------------------------------\n",
            "Ground Truth              | Prediction                | Confidence Score & T/F\n",
            "--------------------------------------------------------------------------------\n",
            "61j62967                  | 61j62967                  | 0.7310\tTrue\n",
            "28w76244                  | 28w76244                  | 0.7707\tTrue\n",
            "24w86266                  | 24w86266                  | 0.8448\tTrue\n",
            "25m51710                  | 25m51710                  | 0.4448\tTrue\n",
            "23c31255                  | 23c31255                  | 0.7278\tTrue\n",
            "--------------------------------------------------------------------------------\n",
            "[1200/30000] Train loss: 0.22482, Valid loss: 0.33363, Elapsed_time: 1386.28698\n",
            "Current_accuracy : 79.043, Current_norm_ED  : 0.94\n",
            "Best_accuracy    : 79.043, Best_norm_ED     : 0.94\n",
            "--------------------------------------------------------------------------------\n",
            "Ground Truth              | Prediction                | Confidence Score & T/F\n",
            "--------------------------------------------------------------------------------\n",
            "89u98934                  | 89u98934                  | 0.8532\tTrue\n",
            "76q39299                  | 76q39299                  | 0.8642\tTrue\n",
            "71b48510                  | 71b48510                  | 0.6558\tTrue\n",
            "42q49529                  | 42q49529                  | 0.8761\tTrue\n",
            "28q57255                  | 28q57255                  | 0.1615\tTrue\n",
            "--------------------------------------------------------------------------------\n",
            "[1300/30000] Train loss: 0.20744, Valid loss: 0.31626, Elapsed_time: 1505.75533\n",
            "Current_accuracy : 80.186, Current_norm_ED  : 0.94\n",
            "Best_accuracy    : 80.186, Best_norm_ED     : 0.94\n",
            "--------------------------------------------------------------------------------\n",
            "Ground Truth              | Prediction                | Confidence Score & T/F\n",
            "--------------------------------------------------------------------------------\n",
            "47t39119                  | 47t39119                  | 0.8570\tTrue\n",
            "84q41420                  | 84q4143                   | 0.4097\tFalse\n",
            "42n26129                  | 42n26129                  | 0.8856\tTrue\n",
            "44b14378                  | 44b14378                  | 0.8827\tTrue\n",
            "82t4492                   | 82t44933                  | 0.2809\tFalse\n",
            "--------------------------------------------------------------------------------\n",
            "[1400/30000] Train loss: 0.20975, Valid loss: 0.31154, Elapsed_time: 1619.02010\n",
            "Current_accuracy : 78.115, Current_norm_ED  : 0.93\n",
            "Best_accuracy    : 80.186, Best_norm_ED     : 0.94\n",
            "--------------------------------------------------------------------------------\n",
            "Ground Truth              | Prediction                | Confidence Score & T/F\n",
            "--------------------------------------------------------------------------------\n",
            "62r11236                  | 62r11236                  | 0.6245\tTrue\n",
            "75m86216                  | 75m86216                  | 0.9227\tTrue\n",
            "78r43766                  | 78r43766                  | 0.7454\tTrue\n",
            "77n98313                  | 77n98313                  | 0.8672\tTrue\n",
            "12e58342                  | 12e58342                  | 0.7906\tTrue\n",
            "--------------------------------------------------------------------------------\n",
            "[1500/30000] Train loss: 0.15892, Valid loss: 0.33395, Elapsed_time: 1732.89503\n",
            "Current_accuracy : 78.508, Current_norm_ED  : 0.93\n",
            "Best_accuracy    : 80.186, Best_norm_ED     : 0.94\n",
            "--------------------------------------------------------------------------------\n",
            "Ground Truth              | Prediction                | Confidence Score & T/F\n",
            "--------------------------------------------------------------------------------\n",
            "3366u771                  | 36u77316                  | 0.8446\tFalse\n",
            "78i15663                  | 78i15663                  | 0.8872\tTrue\n",
            "71m79833                  | 71m77833                  | 0.6587\tFalse\n",
            "95w822                    | 95w82234                  | 0.2999\tFalse\n",
            "15e6548                   | 55e6548                   | 0.0660\tFalse\n",
            "--------------------------------------------------------------------------------\n",
            "[1600/30000] Train loss: 0.15202, Valid loss: 0.42824, Elapsed_time: 1844.93096\n",
            "Current_accuracy : 70.154, Current_norm_ED  : 0.90\n",
            "Best_accuracy    : 80.186, Best_norm_ED     : 0.94\n",
            "--------------------------------------------------------------------------------\n",
            "Ground Truth              | Prediction                | Confidence Score & T/F\n",
            "--------------------------------------------------------------------------------\n",
            "76j7156                   | j69                       | 0.0050\tFalse\n",
            "667j2114                  | 67j11416                  | 0.0636\tFalse\n",
            "35c98577                  | 35c98577                  | 0.7924\tTrue\n",
            "76j59977                  | 76j59977                  | 0.9059\tTrue\n",
            "76c66416                  | 76c66416                  | 0.6050\tTrue\n",
            "--------------------------------------------------------------------------------\n",
            "[1700/30000] Train loss: 0.14192, Valid loss: 0.34875, Elapsed_time: 1958.28609\n",
            "Current_accuracy : 77.258, Current_norm_ED  : 0.93\n",
            "Best_accuracy    : 80.186, Best_norm_ED     : 0.94\n",
            "--------------------------------------------------------------------------------\n",
            "Ground Truth              | Prediction                | Confidence Score & T/F\n",
            "--------------------------------------------------------------------------------\n",
            "8q55                      | 88q5544                   | 0.0844\tFalse\n",
            "15w43311                  | 15w43311                  | 0.8995\tTrue\n",
            "51t2834                   | 51t28223                  | 0.0759\tFalse\n",
            "78j67155                  | 78j67155                  | 0.9036\tTrue\n",
            "67w82477                  | 67w82477                  | 0.4584\tTrue\n",
            "--------------------------------------------------------------------------------\n",
            "[1800/30000] Train loss: 0.13003, Valid loss: 0.87524, Elapsed_time: 2070.48986\n",
            "Current_accuracy : 54.373, Current_norm_ED  : 0.86\n",
            "Best_accuracy    : 80.186, Best_norm_ED     : 0.94\n",
            "--------------------------------------------------------------------------------\n",
            "Ground Truth              | Prediction                | Confidence Score & T/F\n",
            "--------------------------------------------------------------------------------\n",
            "86h6210                   | 86h62110                  | 0.0775\tFalse\n",
            "89q31766                  | 89q31766                  | 0.9371\tTrue\n",
            "79w71910                  | 79w71910                  | 0.9701\tTrue\n",
            "44r54344                  | 44r54444                  | 0.1964\tFalse\n",
            "99j36918                  | 99j36918                  | 0.7645\tTrue\n",
            "--------------------------------------------------------------------------------\n",
            "[1900/30000] Train loss: 0.11380, Valid loss: 0.37171, Elapsed_time: 2183.53798\n",
            "Current_accuracy : 73.438, Current_norm_ED  : 0.92\n",
            "Best_accuracy    : 80.186, Best_norm_ED     : 0.94\n",
            "--------------------------------------------------------------------------------\n",
            "Ground Truth              | Prediction                | Confidence Score & T/F\n",
            "--------------------------------------------------------------------------------\n",
            "52j81468                  | 52j81468                  | 0.8800\tTrue\n",
            "98i47977                  | 98i47977                  | 0.7730\tTrue\n",
            "46i39999                  | 46i39999                  | 0.8377\tTrue\n",
            "42q42679                  | 42q42629                  | 0.9006\tFalse\n",
            "58j65351                  | 58j65351                  | 0.8512\tTrue\n",
            "--------------------------------------------------------------------------------\n",
            "[2000/30000] Train loss: 0.10726, Valid loss: 0.36924, Elapsed_time: 2296.79676\n",
            "Current_accuracy : 78.365, Current_norm_ED  : 0.94\n",
            "Best_accuracy    : 80.186, Best_norm_ED     : 0.94\n",
            "--------------------------------------------------------------------------------\n",
            "Ground Truth              | Prediction                | Confidence Score & T/F\n",
            "--------------------------------------------------------------------------------\n",
            "22u18768                  | 22u18768                  | 0.9091\tTrue\n",
            "94u45418                  | 94u45418                  | 0.9616\tTrue\n",
            "85m13655                  | 85m13655                  | 0.9667\tTrue\n",
            "69c46919                  | 69c46919                  | 0.7994\tTrue\n",
            "88c68910                  | 88c68910                  | 0.9341\tTrue\n",
            "--------------------------------------------------------------------------------\n",
            "[2100/30000] Train loss: 0.08894, Valid loss: 0.39451, Elapsed_time: 2409.40007\n",
            "Current_accuracy : 77.901, Current_norm_ED  : 0.93\n",
            "Best_accuracy    : 80.186, Best_norm_ED     : 0.94\n",
            "--------------------------------------------------------------------------------\n",
            "Ground Truth              | Prediction                | Confidence Score & T/F\n",
            "--------------------------------------------------------------------------------\n",
            "36v54838                  | 36v54838                  | 0.9706\tTrue\n",
            "l17841                    | l17841                    | 0.4629\tTrue\n",
            "54r93718                  | 54r93718                  | 0.9724\tTrue\n",
            "85l34711                  | 85l34711                  | 0.9362\tTrue\n",
            "97w44771                  | 97w44771                  | 0.9546\tTrue\n",
            "--------------------------------------------------------------------------------\n",
            "[2200/30000] Train loss: 0.08238, Valid loss: 0.38279, Elapsed_time: 2522.78263\n",
            "Current_accuracy : 77.044, Current_norm_ED  : 0.93\n",
            "Best_accuracy    : 80.186, Best_norm_ED     : 0.94\n",
            "--------------------------------------------------------------------------------\n",
            "Ground Truth              | Prediction                | Confidence Score & T/F\n",
            "--------------------------------------------------------------------------------\n",
            "77555h24                  | 75h24755                  | 0.9700\tFalse\n",
            "95m47712                  | 95m47712                  | 0.9830\tTrue\n",
            "72v69744                  | 72v69744                  | 0.9398\tTrue\n",
            "38u966                    | 38u779                    | 0.3228\tFalse\n",
            "79v92777                  | 79v92777                  | 0.9830\tTrue\n",
            "--------------------------------------------------------------------------------\n",
            "[2300/30000] Train loss: 0.11908, Valid loss: 0.38019, Elapsed_time: 2634.94113\n",
            "Current_accuracy : 75.509, Current_norm_ED  : 0.92\n",
            "Best_accuracy    : 80.186, Best_norm_ED     : 0.94\n",
            "--------------------------------------------------------------------------------\n",
            "Ground Truth              | Prediction                | Confidence Score & T/F\n",
            "--------------------------------------------------------------------------------\n",
            "8b99629                   | 8999229                   | 0.0424\tFalse\n",
            "41h84733                  | 41h84722                  | 0.2838\tFalse\n",
            "18n98988                  | 18n98988                  | 0.8985\tTrue\n",
            "56c25616                  | 56c25616                  | 0.8539\tTrue\n",
            "94u45418                  | 94u45418                  | 0.5443\tTrue\n",
            "--------------------------------------------------------------------------------\n",
            "[2400/30000] Train loss: 0.06296, Valid loss: 0.41830, Elapsed_time: 2748.86581\n",
            "Current_accuracy : 80.150, Current_norm_ED  : 0.94\n",
            "Best_accuracy    : 80.186, Best_norm_ED     : 0.94\n",
            "--------------------------------------------------------------------------------\n",
            "Ground Truth              | Prediction                | Confidence Score & T/F\n",
            "--------------------------------------------------------------------------------\n",
            "27n79511                  | 27n79511                  | 0.9879\tTrue\n",
            "75w91419                  | 75w91419                  | 0.9880\tTrue\n",
            "35l16522                  | 35l16533                  | 0.4371\tFalse\n",
            "26l42666                  | 26l42666                  | 0.9420\tTrue\n",
            "66r65688                  | 66r65688                  | 0.9747\tTrue\n",
            "--------------------------------------------------------------------------------\n",
            "[2500/30000] Train loss: 0.06367, Valid loss: 0.39392, Elapsed_time: 2861.74861\n",
            "Current_accuracy : 78.650, Current_norm_ED  : 0.93\n",
            "Best_accuracy    : 80.186, Best_norm_ED     : 0.94\n",
            "--------------------------------------------------------------------------------\n",
            "Ground Truth              | Prediction                | Confidence Score & T/F\n",
            "--------------------------------------------------------------------------------\n",
            "31l52977                  | 71l52977                  | 0.6101\tFalse\n",
            "74w76424                  | 74w76424                  | 0.9895\tTrue\n",
            "59h71555                  | 59h71555                  | 0.9884\tTrue\n",
            "74m83624                  | 74m83624                  | 0.9739\tTrue\n",
            "93v19888                  | 93v19888                  | 0.9121\tTrue\n",
            "--------------------------------------------------------------------------------\n",
            "[2600/30000] Train loss: 0.05721, Valid loss: 0.40051, Elapsed_time: 2975.79362\n",
            "Current_accuracy : 79.293, Current_norm_ED  : 0.94\n",
            "Best_accuracy    : 80.186, Best_norm_ED     : 0.94\n",
            "--------------------------------------------------------------------------------\n",
            "Ground Truth              | Prediction                | Confidence Score & T/F\n",
            "--------------------------------------------------------------------------------\n",
            "15v86610                  | 15v86610                  | 0.9815\tTrue\n",
            "29q87166                  | 9988766                   | 0.4735\tFalse\n",
            "86c92438                  | 86c92438                  | 0.9497\tTrue\n",
            "11w99424                  | 11w99424                  | 0.9909\tTrue\n",
            "82h51242                  | 82h51242                  | 0.7923\tTrue\n",
            "--------------------------------------------------------------------------------\n",
            "[2700/30000] Train loss: 0.07790, Valid loss: 0.38641, Elapsed_time: 3087.81144\n",
            "Current_accuracy : 79.329, Current_norm_ED  : 0.94\n",
            "Best_accuracy    : 80.186, Best_norm_ED     : 0.94\n",
            "--------------------------------------------------------------------------------\n",
            "Ground Truth              | Prediction                | Confidence Score & T/F\n",
            "--------------------------------------------------------------------------------\n",
            "98h25144                  | 98h25144                  | 0.9919\tTrue\n",
            "91u62434                  | 91u62434                  | 0.9907\tTrue\n",
            "73l76599                  | 73l76599                  | 0.9884\tTrue\n",
            "34w47524                  | 34w47524                  | 0.9716\tTrue\n",
            "23r87598                  | 23r87598                  | 0.9878\tTrue\n",
            "--------------------------------------------------------------------------------\n",
            "[2800/30000] Train loss: 0.04179, Valid loss: 0.44748, Elapsed_time: 3201.70664\n",
            "Current_accuracy : 79.007, Current_norm_ED  : 0.94\n",
            "Best_accuracy    : 80.186, Best_norm_ED     : 0.94\n",
            "--------------------------------------------------------------------------------\n",
            "Ground Truth              | Prediction                | Confidence Score & T/F\n",
            "--------------------------------------------------------------------------------\n",
            "28l87677                  | 38l87677                  | 0.8866\tFalse\n",
            "79r7610                   | 17l52                     | 0.0011\tFalse\n",
            "16t6595                   | 16t65934                  | 0.7195\tFalse\n",
            "89h51321                  | 89h51321                  | 0.9011\tTrue\n",
            "39n62277                  | 39n66272                  | 0.2761\tFalse\n",
            "--------------------------------------------------------------------------------\n",
            "[2900/30000] Train loss: 0.05715, Valid loss: 0.41856, Elapsed_time: 3313.81799\n",
            "Current_accuracy : 80.186, Current_norm_ED  : 0.94\n",
            "Best_accuracy    : 80.186, Best_norm_ED     : 0.94\n",
            "--------------------------------------------------------------------------------\n",
            "Ground Truth              | Prediction                | Confidence Score & T/F\n",
            "--------------------------------------------------------------------------------\n",
            "17b16313                  | 17b16313                  | 0.8698\tTrue\n",
            "54r21255                  | 54r21256                  | 0.1608\tFalse\n",
            "95l35199                  | 95l55199                  | 0.4114\tFalse\n",
            "18w52633                  | 18w52633                  | 0.9854\tTrue\n",
            "67e5941                   | 67e59414                  | 0.9084\tFalse\n",
            "--------------------------------------------------------------------------------\n",
            "[3000/30000] Train loss: 0.04034, Valid loss: 0.42959, Elapsed_time: 3427.60107\n",
            "Current_accuracy : 78.900, Current_norm_ED  : 0.93\n",
            "Best_accuracy    : 80.186, Best_norm_ED     : 0.94\n",
            "--------------------------------------------------------------------------------\n",
            "Ground Truth              | Prediction                | Confidence Score & T/F\n",
            "--------------------------------------------------------------------------------\n",
            "18h14836                  | 18h14836                  | 0.9900\tTrue\n",
            "72m64510                  | 72m64510                  | 0.9827\tTrue\n",
            "83v1522                   | 8vv555                    | 0.1850\tFalse\n",
            "61u61134                  | 61u61134                  | 0.9941\tTrue\n",
            "25j58477                  | 25j58477                  | 0.9937\tTrue\n",
            "--------------------------------------------------------------------------------\n",
            "[3100/30000] Train loss: 0.03601, Valid loss: 0.44915, Elapsed_time: 3539.57271\n",
            "Current_accuracy : 77.294, Current_norm_ED  : 0.93\n",
            "Best_accuracy    : 80.186, Best_norm_ED     : 0.94\n",
            "--------------------------------------------------------------------------------\n",
            "Ground Truth              | Prediction                | Confidence Score & T/F\n",
            "--------------------------------------------------------------------------------\n",
            "94t93533                  | 94t93533                  | 0.9635\tTrue\n",
            "97u77234                  | 97u77234                  | 0.9791\tTrue\n",
            "23m92898                  | 23m92898                  | 0.9920\tTrue\n",
            "88c68910                  | 88c68910                  | 0.9850\tTrue\n",
            "47t97622                  | 47t97622                  | 0.8687\tTrue\n",
            "--------------------------------------------------------------------------------\n",
            "[3200/30000] Train loss: 0.02725, Valid loss: 0.45459, Elapsed_time: 3653.02540\n",
            "Current_accuracy : 79.686, Current_norm_ED  : 0.94\n",
            "Best_accuracy    : 80.186, Best_norm_ED     : 0.94\n",
            "--------------------------------------------------------------------------------\n",
            "Ground Truth              | Prediction                | Confidence Score & T/F\n",
            "--------------------------------------------------------------------------------\n",
            "47b77920                  | 77b79                     | 0.2387\tFalse\n",
            "76b24166                  | 76b34166                  | 0.9859\tFalse\n",
            "75u76268                  | 75c76268                  | 0.9897\tFalse\n",
            "2661128b                  | 26b81216                  | 0.9726\tFalse\n",
            "19e39943                  | 19e39943                  | 0.9544\tTrue\n",
            "--------------------------------------------------------------------------------\n",
            "[3300/30000] Train loss: 0.04619, Valid loss: 0.45476, Elapsed_time: 3765.20016\n",
            "Current_accuracy : 79.222, Current_norm_ED  : 0.94\n",
            "Best_accuracy    : 80.186, Best_norm_ED     : 0.94\n",
            "--------------------------------------------------------------------------------\n",
            "Ground Truth              | Prediction                | Confidence Score & T/F\n",
            "--------------------------------------------------------------------------------\n",
            "17q13177                  | 17q13177                  | 0.9890\tTrue\n",
            "26j54367                  | 26j54367                  | 0.9809\tTrue\n",
            "e151                      | j615                      | 0.2082\tFalse\n",
            "39j48316                  | 29j48316                  | 0.9784\tFalse\n",
            "83j42821                  | 83j42821                  | 0.9911\tTrue\n",
            "--------------------------------------------------------------------------------\n",
            "[3400/30000] Train loss: 0.02910, Valid loss: 0.49013, Elapsed_time: 3878.24367\n",
            "Current_accuracy : 76.258, Current_norm_ED  : 0.93\n",
            "Best_accuracy    : 80.186, Best_norm_ED     : 0.94\n",
            "--------------------------------------------------------------------------------\n",
            "Ground Truth              | Prediction                | Confidence Score & T/F\n",
            "--------------------------------------------------------------------------------\n",
            "59h56133                  | 59h56122                  | 0.6516\tFalse\n",
            "62b76674                  | 62b76674                  | 0.9956\tTrue\n",
            "42r68710                  | 42r68710                  | 0.9906\tTrue\n",
            "m87499                    | 2m87499                   | 0.4098\tFalse\n",
            "43c45710                  | 42c55210                  | 0.6079\tFalse\n",
            "--------------------------------------------------------------------------------\n",
            "[3500/30000] Train loss: 0.01971, Valid loss: 0.48328, Elapsed_time: 3990.01207\n",
            "Current_accuracy : 79.757, Current_norm_ED  : 0.94\n",
            "Best_accuracy    : 80.186, Best_norm_ED     : 0.94\n",
            "--------------------------------------------------------------------------------\n",
            "Ground Truth              | Prediction                | Confidence Score & T/F\n",
            "--------------------------------------------------------------------------------\n",
            "22n58110                  | 22n58110                  | 0.9858\tTrue\n",
            "27n79511                  | 27n79511                  | 0.9959\tTrue\n",
            "94u71766                  | 94u71766                  | 0.9934\tTrue\n",
            "92q15616                  | 92q15616                  | 0.9756\tTrue\n",
            "52c61253                  | 52c61253                  | 0.6192\tTrue\n",
            "--------------------------------------------------------------------------------\n",
            "[3600/30000] Train loss: 0.02633, Valid loss: 0.49340, Elapsed_time: 4102.87844\n",
            "Current_accuracy : 77.829, Current_norm_ED  : 0.94\n",
            "Best_accuracy    : 80.186, Best_norm_ED     : 0.94\n",
            "--------------------------------------------------------------------------------\n",
            "Ground Truth              | Prediction                | Confidence Score & T/F\n",
            "--------------------------------------------------------------------------------\n",
            "98q95188                  | 98q95188                  | 0.9969\tTrue\n",
            "53l99416                  | 53l99416                  | 0.5324\tTrue\n",
            "52v16677                  | 52v16677                  | 0.9975\tTrue\n",
            "48n93388                  | 48n93388                  | 0.5296\tTrue\n",
            "31c15716                  | 31c15716                  | 0.9935\tTrue\n",
            "--------------------------------------------------------------------------------\n",
            "[3700/30000] Train loss: 0.01919, Valid loss: 0.49102, Elapsed_time: 4215.81397\n",
            "Current_accuracy : 79.293, Current_norm_ED  : 0.94\n",
            "Best_accuracy    : 80.186, Best_norm_ED     : 0.94\n",
            "--------------------------------------------------------------------------------\n",
            "Ground Truth              | Prediction                | Confidence Score & T/F\n",
            "--------------------------------------------------------------------------------\n",
            "76r9218                   | 76r92188                  | 0.6988\tFalse\n",
            "59e12611                  | 59e12611                  | 0.9338\tTrue\n",
            "25i63155                  | 25i63155                  | 0.9915\tTrue\n",
            "83w75992                  | 83w75993                  | 0.7689\tFalse\n",
            "15u12416                  | 15u12416                  | 0.9758\tTrue\n",
            "--------------------------------------------------------------------------------\n",
            "[3800/30000] Train loss: 0.04274, Valid loss: 0.49189, Elapsed_time: 4328.41789\n",
            "Current_accuracy : 78.686, Current_norm_ED  : 0.94\n",
            "Best_accuracy    : 80.186, Best_norm_ED     : 0.94\n",
            "--------------------------------------------------------------------------------\n",
            "Ground Truth              | Prediction                | Confidence Score & T/F\n",
            "--------------------------------------------------------------------------------\n",
            "78m6879                   | 78m68793                  | 0.9952\tFalse\n",
            "66u62553                  | 66u62553                  | 0.5559\tTrue\n",
            "28q29929                  | 28q29929                  | 0.9953\tTrue\n",
            "26i42991                  | 26i42991                  | 0.9972\tTrue\n",
            "7h                        | 75h62                     | 0.7320\tFalse\n",
            "--------------------------------------------------------------------------------\n"
          ]
        }
      ],
      "source": [
        "output = !python3 /content/drive/MyDrive/deep-text-recognition-benchmark/train.py \\\n",
        "--train_data /content/drive/MyDrive/deep-text-recognition-benchmark/dataset/train --valid_data /content/drive/MyDrive/deep-text-recognition-benchmark/dataset/validation \\\n",
        "--select_data / --batch_ratio 1 --batch_max_length 8 --valInterval 100 \\\n",
        "--Transformation TPS --FeatureExtraction ResNet --SequenceModeling BiLSTM --Prediction Attn"
      ]
    },
    {
      "cell_type": "markdown",
      "metadata": {
        "id": "TLtzuoPJ7KGU"
      },
      "source": [
        "در فایل train.py ⁉\n",
        "batch_max_length = default=8\n",
        "\n",
        "\n"
      ]
    },
    {
      "cell_type": "markdown",
      "metadata": {
        "id": "2xUCzRV78Dka"
      },
      "source": [
        "num_iter = (300000 / batch size=192 ) / number of batches"
      ]
    },
    {
      "cell_type": "code",
      "execution_count": null,
      "metadata": {
        "id": "2rR_0Py__NGl"
      },
      "outputs": [],
      "source": []
    }
  ],
  "metadata": {
    "accelerator": "GPU",
    "colab": {
      "provenance": []
    },
    "kernelspec": {
      "display_name": "Python 3",
      "name": "python3"
    },
    "language_info": {
      "name": "python"
    }
  },
  "nbformat": 4,
  "nbformat_minor": 0
}