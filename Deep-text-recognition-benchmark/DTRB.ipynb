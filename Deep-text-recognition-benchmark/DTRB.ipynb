{
  "cells": [
    {
      "cell_type": "code",
      "execution_count": null,
      "metadata": {
        "colab": {
          "base_uri": "https://localhost:8080/"
        },
        "id": "G4RS6-5KKquw",
        "outputId": "db0b3aab-98af-45d9-ea38-71b2ad34b4b3"
      },
      "outputs": [
        {
          "output_type": "stream",
          "name": "stdout",
          "text": [
            "Cloning into 'deep-text-recognition-benchmark'...\n",
            "remote: Enumerating objects: 499, done.\u001b[K\n",
            "remote: Counting objects: 100% (4/4), done.\u001b[K\n",
            "remote: Compressing objects: 100% (4/4), done.\u001b[K\n",
            "remote: Total 499 (delta 0), reused 1 (delta 0), pack-reused 495\u001b[K\n",
            "Receiving objects: 100% (499/499), 3.07 MiB | 6.50 MiB/s, done.\n",
            "Resolving deltas: 100% (301/301), done.\n"
          ]
        }
      ],
      "source": [
        "!git clone https://github.com/clovaai/deep-text-recognition-benchmark.git"
      ]
    },
    {
      "cell_type": "code",
      "execution_count": null,
      "metadata": {
        "colab": {
          "base_uri": "https://localhost:8080/"
        },
        "id": "vG9Aqi-VL2Kf",
        "outputId": "07ab35b0-1885-4b55-bff8-9c5904c1e453"
      },
      "outputs": [
        {
          "output_type": "stream",
          "name": "stdout",
          "text": [
            "/content/deep-text-recognition-benchmark\n"
          ]
        }
      ],
      "source": [
        "%cd deep-text-recognition-benchmark"
      ]
    },
    {
      "cell_type": "markdown",
      "metadata": {
        "id": "iB7xzOnpMVLQ"
      },
      "source": [
        "# Run sample demo :"
      ]
    },
    {
      "cell_type": "markdown",
      "metadata": {
        "id": "b9U8mApjk_Wn"
      },
      "source": [
        "download pretrained weights : https://drive.google.com/drive/folders/15WPsuPJDCzhp2SvYZLRj8mAlT3zmoAMW"
      ]
    },
    {
      "cell_type": "markdown",
      "metadata": {
        "id": "DQJ3pNZlo2gi"
      },
      "source": [
        "download from google drive , using gdown\n"
      ]
    },
    {
      "cell_type": "code",
      "execution_count": 1,
      "metadata": {
        "colab": {
          "base_uri": "https://localhost:8080/"
        },
        "id": "ytXJhcHaMOCi",
        "outputId": "ab7ad203-0faf-4a58-ee96-4cdbdee5405e"
      },
      "outputs": [
        {
          "output_type": "stream",
          "name": "stdout",
          "text": [
            "Downloading...\n",
            "From: https://drive.google.com/uc?id=1b59rXuGGmKne1AuHnkgDzoYgKeETNMv9\n",
            "To: /content/TPS-ResNet-BiLSTM-Attn.pth\n",
            "100% 199M/199M [00:01<00:00, 141MB/s]\n"
          ]
        }
      ],
      "source": [
        "!pip install -q gdown\n",
        "import gdown\n",
        "\n",
        "!gdown 1b59rXuGGmKne1AuHnkgDzoYgKeETNMv9  # file ID"
      ]
    },
    {
      "cell_type": "code",
      "execution_count": 2,
      "metadata": {
        "colab": {
          "base_uri": "https://localhost:8080/"
        },
        "id": "Qp2YG7G6qHUc",
        "outputId": "112344e5-a681-4ab5-a1d0-f789be8acb66"
      },
      "outputs": [
        {
          "output_type": "stream",
          "name": "stdout",
          "text": [
            "Collecting lmdb\n",
            "  Downloading lmdb-1.4.1-cp310-cp310-manylinux_2_17_x86_64.manylinux2014_x86_64.whl (299 kB)\n",
            "\u001b[?25l     \u001b[90m━━━━━━━━━━━━━━━━━━━━━━━━━━━━━━━━━━━━━━━━\u001b[0m \u001b[32m0.0/299.2 kB\u001b[0m \u001b[31m?\u001b[0m eta \u001b[36m-:--:--\u001b[0m\r\u001b[2K     \u001b[91m━━━━━━━━━━━━━━━━━━━━━━━\u001b[0m\u001b[90m╺\u001b[0m\u001b[90m━━━━━━━━━━━━━━━━\u001b[0m \u001b[32m174.1/299.2 kB\u001b[0m \u001b[31m5.3 MB/s\u001b[0m eta \u001b[36m0:00:01\u001b[0m\r\u001b[2K     \u001b[90m━━━━━━━━━━━━━━━━━━━━━━━━━━━━━━━━━━━━━━━━\u001b[0m \u001b[32m299.2/299.2 kB\u001b[0m \u001b[31m5.7 MB/s\u001b[0m eta \u001b[36m0:00:00\u001b[0m\n",
            "\u001b[?25hInstalling collected packages: lmdb\n",
            "Successfully installed lmdb-1.4.1\n"
          ]
        }
      ],
      "source": [
        "!pip install lmdb"
      ]
    },
    {
      "cell_type": "code",
      "execution_count": null,
      "metadata": {
        "colab": {
          "base_uri": "https://localhost:8080/"
        },
        "id": "-RVKQCKipS1G",
        "outputId": "b9e30053-0107-4509-dac1-1c9d65f07b6b"
      },
      "outputs": [
        {
          "name": "stdout",
          "output_type": "stream",
          "text": [
            "model input parameters 32 100 20 1 512 256 38 25 TPS ResNet BiLSTM Attn\n",
            "loading pretrained model from TPS-ResNet-BiLSTM-Attn.pth\n",
            "/usr/local/lib/python3.10/dist-packages/torch/utils/data/dataloader.py:557: UserWarning: This DataLoader will create 4 worker processes in total. Our suggested max number of worker in current system is 2, which is smaller than what this DataLoader is going to create. Please be aware that excessive worker creation might get DataLoader running slow or even freeze, lower the worker number to avoid potential slowness/freeze if necessary.\n",
            "  warnings.warn(_create_warning_msg(\n",
            "--------------------------------------------------------------------------------\n",
            "image_path               \tpredicted_labels         \tconfidence score\n",
            "--------------------------------------------------------------------------------\n",
            "demo_image/demo_1.png    \tavailable                \t0.9999\n",
            "demo_image/demo_2.jpg    \tshakeshack               \t0.9530\n",
            "demo_image/demo_3.png    \tlondon                   \t0.9840\n",
            "demo_image/demo_4.png    \tgreenstead               \t0.9985\n",
            "demo_image/demo_5.png    \ttoast                    \t0.9961\n",
            "demo_image/demo_6.png    \tmerry                    \t0.9975\n",
            "demo_image/demo_7.png    \tunderground              \t1.0000\n",
            "demo_image/demo_8.jpg    \tronaldo                  \t0.8387\n",
            "demo_image/demo_9.jpg    \tbally                    \t0.7493\n",
            "demo_image/demo_10.jpg   \tuniversity               \t0.9998\n"
          ]
        }
      ],
      "source": [
        "!python3 demo.py \\\n",
        "--Transformation TPS --FeatureExtraction ResNet --SequenceModeling BiLSTM --Prediction Attn \\\n",
        "--image_folder demo_image/ \\\n",
        "--saved_model TPS-ResNet-BiLSTM-Attn.pth"
      ]
    },
    {
      "cell_type": "markdown",
      "metadata": {
        "id": "lCxdIPDVqU_Y"
      },
      "source": [
        "rooye 10 ta tasvire demo , dar file demo.py khorooji gereftan"
      ]
    },
    {
      "cell_type": "code",
      "execution_count": null,
      "metadata": {
        "id": "lO2N1y9IqMMC"
      },
      "outputs": [],
      "source": []
    },
    {
      "cell_type": "markdown",
      "metadata": {
        "id": "XjGipBVPrI_O"
      },
      "source": [
        "# train DTRB ON PERSIAN License Plate :"
      ]
    },
    {
      "cell_type": "markdown",
      "metadata": {
        "id": "JLN4N5ArrcC-"
      },
      "source": [
        "mikhaim az transfer learning estefade konim , va shabake RESNET dar bala ro ke ghablan train shode , rooye dataset khodemoon FINE TUNE konim"
      ]
    },
    {
      "cell_type": "markdown",
      "metadata": {
        "id": "nY8Fo387r5BJ"
      },
      "source": [
        "train our own non-latin dataset :"
      ]
    },
    {
      "cell_type": "markdown",
      "metadata": {
        "id": "zGppcIYjsJ8B"
      },
      "source": [
        "### WE NEED TO CREATE DATASET WITH lmdb FORMAT\n"
      ]
    },
    {
      "cell_type": "markdown",
      "metadata": {
        "id": "3si579QksXHU"
      },
      "source": [
        "data <br/>\n",
        "├── gt.txt <br/>\n",
        "└── test <br/>\n",
        "    ├── word_1.png <br/>\n",
        "    ├── word_2.png <br/>\n",
        "    ├── word_3.png <br/>\n",
        "    └── ... <br/>\n",
        "\n",
        "<br/>\n",
        " image address  --------    its text <br/>\n",
        "test/word_1.png -----  Tiredness <br/>\n",
        "test/word_2.png -----  kills <br/>\n",
        "test/word_3.png -----  A <br/>\n",
        "... <br/>"
      ]
    },
    {
      "cell_type": "markdown",
      "metadata": {
        "id": "5B7_mdJ5tqJt"
      },
      "source": [
        "# here , **LABELS ARE TEXTS IN IMAGES**"
      ]
    },
    {
      "cell_type": "markdown",
      "metadata": {
        "id": "jcwbOfP6t8Dn"
      },
      "source": [
        "یک فایل دات تی اکس تی میسازیم <br/>\n",
        "آدرس هر عکس با متن توش رو قرار میدیم<br/>\n",
        "یعنی یک پوشه دیتا پر از عکس به علاوه یک فایل جی تی تکست که لیبل ها توشه\n",
        "این ساختار رو میدیم به فایل <br/> creat_lmbd_dataset.py\n",
        "<br/>\n",
        "بعد این میاد از روی عکس ها یک فایل ال ام دی بی میسازه\n",
        "<br/>\n",
        "اون فایل ال ام دی بی رو میدیم به train.py\n",
        "<br/>\n",
        "روش ترین بشه\n"
      ]
    },
    {
      "cell_type": "markdown",
      "metadata": {
        "id": "n81h19b6vT3z"
      },
      "source": [
        "میایم توی فولدری که ساخته شده به نام دیپ تکست ریکاگنیشن یک فولدر ایجاد می کنیم به نام دیتا\n",
        "<br/>\n",
        "\n",
        "توی این فولدر یک فایل gt.txt  میسازیم\n",
        "<br/>\n",
        "\n",
        "و بعد یک فولدر که عکس ها رو بزاریم توش\n",
        "به نام ترین\n",
        "<br/>\n",
        "\n",
        "یک فولدر دیگه هم به نام ولیدیشین ایجاد میکنیم\n",
        "\n",
        "<br/>\n",
        "پس حالا چون دو تا فولدر داریم باید دو تا فایل جی تی هم داشته باشیم برای هرکدوم\n",
        "gt_train.txt\n",
        "gt_validation.txt\n",
        "\n",
        "### نکته : بین اسم فایل و متن مربوطه اش نباید اسپیس باشه بلکه باید یک تب بزنیم\n",
        "\n",
        "<br/>\n",
        "\n",
        "\n",
        "حالا میریم توی وی اس کد و اونجا فایل تکست رو میسازیم\n",
        "آدرس عکس + متن تصویر\n",
        "<br/>\n",
        "\n",
        "## Labeling :\n",
        "train/46469fhdhsj.jpg  13M89422\n",
        "train/834uy884848.jpg  74K48495 <br/>\n",
        ". <br/>\n",
        ". <br/>\n",
        ". <br/>\n",
        "<br/>\n",
        "in validation txt file :<br/>\n",
        "validtaion/h83y3rh7r.jpg  23Y94355\n",
        "\n",
        "\n",
        "\n",
        "حالا باید کتابخونه فایر رو نصب کنیم :"
      ]
    },
    {
      "cell_type": "code",
      "execution_count": 3,
      "metadata": {
        "id": "QX7Xismj195f",
        "colab": {
          "base_uri": "https://localhost:8080/"
        },
        "outputId": "6b0ed1b0-f271-41fa-a52c-4d4596bcc795"
      },
      "outputs": [
        {
          "output_type": "stream",
          "name": "stdout",
          "text": [
            "\u001b[?25l     \u001b[90m━━━━━━━━━━━━━━━━━━━━━━━━━━━━━━━━━━━━━━━━\u001b[0m \u001b[32m0.0/88.3 kB\u001b[0m \u001b[31m?\u001b[0m eta \u001b[36m-:--:--\u001b[0m\r\u001b[2K     \u001b[90m━━━━━━━━━━━━━━━━━━━━━━━━━━━━━━━━━━━━━━━━\u001b[0m \u001b[32m88.3/88.3 kB\u001b[0m \u001b[31m2.7 MB/s\u001b[0m eta \u001b[36m0:00:00\u001b[0m\n",
            "\u001b[?25h  Preparing metadata (setup.py) ... \u001b[?25l\u001b[?25hdone\n",
            "  Building wheel for fire (setup.py) ... \u001b[?25l\u001b[?25hdone\n"
          ]
        }
      ],
      "source": [
        "!pip install -q fire"
      ]
    },
    {
      "cell_type": "markdown",
      "metadata": {
        "id": "A-JiF4Pn2EWH"
      },
      "source": [
        "حالا گفته فایل create_lmdb_dataset.py <br/>\n",
        "رو اجرا بکن"
      ]
    },
    {
      "cell_type": "markdown",
      "metadata": {
        "id": "4Iwfv7Jd2sXE"
      },
      "source": [
        "یک پوشه دیتاست ایجادد می کنیم و بعد داخلش یک فولدر ترین ایجاد می کنیم تا نتایج کد پایین رو اون تو ذخیره کنه\n",
        "<br/>\n",
        "deep-text-recognition-...  --->  dataset ---> train\n"
      ]
    },
    {
      "cell_type": "code",
      "execution_count": null,
      "metadata": {
        "colab": {
          "base_uri": "https://localhost:8080/"
        },
        "id": "HpHDYZNv2Y0g",
        "outputId": "7420e238-d17e-440c-e83a-54bb0dd1d9b1"
      },
      "outputs": [
        {
          "output_type": "stream",
          "name": "stdout",
          "text": [
            "Written 1000 / 19453\n",
            "Written 2000 / 19453\n",
            "Written 3000 / 19453\n",
            "Written 4000 / 19453\n",
            "Written 5000 / 19453\n",
            "Written 6000 / 19453\n",
            "Written 7000 / 19453\n",
            "Written 8000 / 19453\n",
            "Written 9000 / 19453\n",
            "Written 10000 / 19453\n",
            "Written 11000 / 19453\n",
            "Written 12000 / 19453\n",
            "Written 13000 / 19453\n",
            "Written 14000 / 19453\n",
            "Written 15000 / 19453\n",
            "Written 16000 / 19453\n",
            "Written 17000 / 19453\n",
            "Written 18000 / 19453\n",
            "Written 19000 / 19453\n",
            "Created dataset with 19453 samples\n"
          ]
        }
      ],
      "source": [
        "!python3 /content/drive/MyDrive/deep-text-recognition-benchmark/create_lmdb_dataset.py --inputPath /content/drive/MyDrive/deep-text-recognition-benchmark/data/ --gtFile /content/drive/MyDrive/deep-text-recognition-benchmark/data/gt_train_copy.txt --outputPath /content/drive/MyDrive/deep-text-recognition-benchmark/dataset/train"
      ]
    },
    {
      "cell_type": "markdown",
      "metadata": {
        "id": "st4TClYx2gbM"
      },
      "source": [
        "اینجا یک دیتاست ساخته شد\n",
        "\n",
        "از روی عکس ها و لیبل ها اومد و فایل ام دی بی ساخت در آدرس زیر ⁉ <br/>\n",
        "\n",
        "dataset --> train  ----> data.mdb"
      ]
    },
    {
      "cell_type": "markdown",
      "metadata": {
        "id": "6fq4J0xA2gXs"
      },
      "source": [
        "# az file haye .mdb dar TRAIN estefade mikone"
      ]
    },
    {
      "cell_type": "markdown",
      "metadata": {
        "id": "AxVYETei4sDY"
      },
      "source": [
        "حالا همین مسیر رو برای ولیدیشن انجام میدیم:\n",
        "<br/>\n",
        "و میگیم در این مسیر ذخیره کن نتایج و فایل های ام دی بی رو\n",
        "<br/>\n",
        "deep-text-recognition... / dataset / validation"
      ]
    },
    {
      "cell_type": "code",
      "execution_count": null,
      "metadata": {
        "colab": {
          "base_uri": "https://localhost:8080/"
        },
        "id": "IExIczyo4qai",
        "outputId": "ae5032a0-fd18-42cf-edda-8000f428a067"
      },
      "outputs": [
        {
          "output_type": "stream",
          "name": "stdout",
          "text": [
            "Written 1000 / 2815\n",
            "Written 2000 / 2815\n",
            "Created dataset with 2815 samples\n"
          ]
        }
      ],
      "source": [
        "!python3 /content/drive/MyDrive/deep-text-recognition-benchmark/create_lmdb_dataset.py --inputPath /content/drive/MyDrive/deep-text-recognition-benchmark/data/ --gtFile /content/drive/MyDrive/deep-text-recognition-benchmark/data/gt_validation_copy.txt --outputPath /content/drive/MyDrive/deep-text-recognition-benchmark/dataset/validation"
      ]
    },
    {
      "cell_type": "markdown",
      "metadata": {
        "id": "5bZKdeJZ5mOO"
      },
      "source": []
    },
    {
      "cell_type": "markdown",
      "metadata": {
        "id": "THZYgp_q5xrX"
      },
      "source": [
        "# TRAIN :"
      ]
    },
    {
      "cell_type": "code",
      "execution_count": 13,
      "metadata": {
        "colab": {
          "base_uri": "https://localhost:8080/"
        },
        "id": "xXaHxGgmrBEN",
        "outputId": "d53c2e99-1bca-4cc2-ecb8-69ef1494df11"
      },
      "outputs": [
        {
          "output_type": "stream",
          "name": "stdout",
          "text": [
            "[2800/5000] Train loss: 0.04118, Valid loss: 0.41903, Elapsed_time: 3147.57409\n",
            "Current_accuracy : 79.472, Current_norm_ED  : 0.94\n",
            "Best_accuracy    : 80.257, Best_norm_ED     : 0.94\n",
            "--------------------------------------------------------------------------------\n",
            "Ground Truth              | Prediction                | Confidence Score & T/F\n",
            "--------------------------------------------------------------------------------\n",
            "28l87677                  | 88l87477                  | 0.2882\tFalse\n",
            "79r7610                   | 96l75116                  | 0.0001\tFalse\n",
            "16t6595                   | 16t6593                   | 0.9443\tFalse\n",
            "89h51321                  | 8hh5121                   | 0.2692\tFalse\n",
            "39n62277                  | 39n62277                  | 0.9185\tTrue\n",
            "--------------------------------------------------------------------------------\n",
            "[2900/5000] Train loss: 0.06133, Valid loss: 0.42199, Elapsed_time: 3258.33308\n",
            "Current_accuracy : 79.043, Current_norm_ED  : 0.94\n",
            "Best_accuracy    : 80.257, Best_norm_ED     : 0.94\n",
            "--------------------------------------------------------------------------------\n",
            "Ground Truth              | Prediction                | Confidence Score & T/F\n",
            "--------------------------------------------------------------------------------\n",
            "17b16313                  | 17b16313                  | 0.9903\tTrue\n",
            "54r21255                  | 43r21265                  | 0.0837\tFalse\n",
            "95l35199                  | 95l31199                  | 0.1302\tFalse\n",
            "18w52633                  | 18w52633                  | 0.9647\tTrue\n",
            "67e5941                   | 67e59316                  | 0.6076\tFalse\n",
            "--------------------------------------------------------------------------------\n",
            "[3000/5000] Train loss: 0.03476, Valid loss: 0.43355, Elapsed_time: 3368.48471\n",
            "Current_accuracy : 79.293, Current_norm_ED  : 0.94\n",
            "Best_accuracy    : 80.257, Best_norm_ED     : 0.94\n",
            "--------------------------------------------------------------------------------\n",
            "Ground Truth              | Prediction                | Confidence Score & T/F\n",
            "--------------------------------------------------------------------------------\n",
            "18h14836                  | 18h14836                  | 0.9957\tTrue\n",
            "72m64510                  | 72m64510                  | 0.9919\tTrue\n",
            "83v1522                   | 83v1525                   | 0.9115\tFalse\n",
            "61u61134                  | 61u61134                  | 0.9954\tTrue\n",
            "25j58477                  | 25j58477                  | 0.9792\tTrue\n",
            "--------------------------------------------------------------------------------\n",
            "[3100/5000] Train loss: 0.03560, Valid loss: 0.42291, Elapsed_time: 3479.64438\n",
            "Current_accuracy : 77.401, Current_norm_ED  : 0.93\n",
            "Best_accuracy    : 80.257, Best_norm_ED     : 0.94\n",
            "--------------------------------------------------------------------------------\n",
            "Ground Truth              | Prediction                | Confidence Score & T/F\n",
            "--------------------------------------------------------------------------------\n",
            "94t93533                  | 94t9353                   | 0.9780\tFalse\n",
            "97u77234                  | 97u77234                  | 0.9939\tTrue\n",
            "23m92898                  | 23m92898                  | 0.9783\tTrue\n",
            "88c68910                  | 88c68910                  | 0.9572\tTrue\n",
            "47t97622                  | 47t97622                  | 0.7216\tTrue\n",
            "--------------------------------------------------------------------------------\n",
            "[3200/5000] Train loss: 0.04053, Valid loss: 0.41716, Elapsed_time: 3590.55928\n",
            "Current_accuracy : 78.829, Current_norm_ED  : 0.94\n",
            "Best_accuracy    : 80.257, Best_norm_ED     : 0.94\n",
            "--------------------------------------------------------------------------------\n",
            "Ground Truth              | Prediction                | Confidence Score & T/F\n",
            "--------------------------------------------------------------------------------\n",
            "47b77920                  | 77799                     | 0.1147\tFalse\n",
            "76b24166                  | 76b44166                  | 0.3614\tFalse\n",
            "75u76268                  | 75c76268                  | 0.9789\tFalse\n",
            "2661128b                  | 26b81216                  | 0.9088\tFalse\n",
            "19e39943                  | 19e39943                  | 0.9644\tTrue\n",
            "--------------------------------------------------------------------------------\n",
            "[3300/5000] Train loss: 0.03039, Valid loss: 0.47809, Elapsed_time: 3701.46204\n",
            "Current_accuracy : 77.080, Current_norm_ED  : 0.93\n",
            "Best_accuracy    : 80.257, Best_norm_ED     : 0.94\n",
            "--------------------------------------------------------------------------------\n",
            "Ground Truth              | Prediction                | Confidence Score & T/F\n",
            "--------------------------------------------------------------------------------\n",
            "17q13177                  | 17q13177                  | 0.9821\tTrue\n",
            "26j54367                  | 26j54367                  | 0.8850\tTrue\n",
            "e151                      | 611                       | 0.1232\tFalse\n",
            "39j48316                  | 29j48316                  | 0.5224\tFalse\n",
            "83j42821                  | 83j42821                  | 0.9768\tTrue\n",
            "--------------------------------------------------------------------------------\n",
            "[3400/5000] Train loss: 0.04121, Valid loss: 0.46046, Elapsed_time: 3812.51696\n",
            "Current_accuracy : 79.150, Current_norm_ED  : 0.94\n",
            "Best_accuracy    : 80.257, Best_norm_ED     : 0.94\n",
            "--------------------------------------------------------------------------------\n",
            "Ground Truth              | Prediction                | Confidence Score & T/F\n",
            "--------------------------------------------------------------------------------\n",
            "59h56133                  | 59h56133                  | 0.3370\tTrue\n",
            "62b76674                  | 62b76674                  | 0.9906\tTrue\n",
            "42r68710                  | 42r68710                  | 0.9865\tTrue\n",
            "m87499                    | 2m87499                   | 0.7629\tFalse\n",
            "43c45710                  | 43c45710                  | 0.4986\tTrue\n",
            "--------------------------------------------------------------------------------\n",
            "[3500/5000] Train loss: 0.02869, Valid loss: 0.54541, Elapsed_time: 3924.07060\n",
            "Current_accuracy : 76.544, Current_norm_ED  : 0.93\n",
            "Best_accuracy    : 80.257, Best_norm_ED     : 0.94\n",
            "--------------------------------------------------------------------------------\n",
            "Ground Truth              | Prediction                | Confidence Score & T/F\n",
            "--------------------------------------------------------------------------------\n",
            "22n58110                  | 22n58110                  | 0.8784\tTrue\n",
            "27n79511                  | 37n79511                  | 0.9835\tFalse\n",
            "94u71766                  | 94u71766                  | 0.9925\tTrue\n",
            "92q15616                  | 93q15616                  | 0.8438\tFalse\n",
            "52c61253                  | 52c61253                  | 0.3614\tTrue\n",
            "--------------------------------------------------------------------------------\n",
            "[3600/5000] Train loss: 0.03992, Valid loss: 0.44524, Elapsed_time: 4036.05996\n",
            "Current_accuracy : 77.508, Current_norm_ED  : 0.94\n",
            "Best_accuracy    : 80.257, Best_norm_ED     : 0.94\n",
            "--------------------------------------------------------------------------------\n",
            "Ground Truth              | Prediction                | Confidence Score & T/F\n",
            "--------------------------------------------------------------------------------\n",
            "98q95188                  | 98q95188                  | 0.9907\tTrue\n",
            "53l99416                  | 53l99416                  | 0.9765\tTrue\n",
            "52v16677                  | 52v16677                  | 0.9912\tTrue\n",
            "48n93388                  | 48n93388                  | 0.5931\tTrue\n",
            "31c15716                  | 31c15716                  | 0.9941\tTrue\n",
            "--------------------------------------------------------------------------------\n",
            "[3700/5000] Train loss: 0.02183, Valid loss: 0.45875, Elapsed_time: 4146.63844\n",
            "Current_accuracy : 79.614, Current_norm_ED  : 0.94\n",
            "Best_accuracy    : 80.257, Best_norm_ED     : 0.94\n",
            "--------------------------------------------------------------------------------\n",
            "Ground Truth              | Prediction                | Confidence Score & T/F\n",
            "--------------------------------------------------------------------------------\n",
            "76r9218                   | 76r92188                  | 0.5686\tFalse\n",
            "59e12611                  | 59i12611                  | 0.4001\tFalse\n",
            "25i63155                  | 25i63155                  | 0.7603\tTrue\n",
            "83w75992                  | 83w75992                  | 0.9120\tTrue\n",
            "15u12416                  | 15u12416                  | 0.9974\tTrue\n",
            "--------------------------------------------------------------------------------\n",
            "[3800/5000] Train loss: 0.01500, Valid loss: 0.46773, Elapsed_time: 4256.48021\n",
            "Current_accuracy : 80.614, Current_norm_ED  : 0.94\n",
            "Best_accuracy    : 80.614, Best_norm_ED     : 0.94\n",
            "--------------------------------------------------------------------------------\n",
            "Ground Truth              | Prediction                | Confidence Score & T/F\n",
            "--------------------------------------------------------------------------------\n",
            "78m6879                   | 78m68793                  | 0.9967\tFalse\n",
            "66u62553                  | 66u62553                  | 0.9714\tTrue\n",
            "28q29929                  | 28q29929                  | 0.9941\tTrue\n",
            "26i42991                  | 26i42991                  | 0.9958\tTrue\n",
            "7h                        | 75h6267                   | 0.5192\tFalse\n",
            "--------------------------------------------------------------------------------\n",
            "[3900/5000] Train loss: 0.03567, Valid loss: 0.48077, Elapsed_time: 4374.21553\n",
            "Current_accuracy : 80.793, Current_norm_ED  : 0.94\n",
            "Best_accuracy    : 80.793, Best_norm_ED     : 0.94\n",
            "--------------------------------------------------------------------------------\n",
            "Ground Truth              | Prediction                | Confidence Score & T/F\n",
            "--------------------------------------------------------------------------------\n",
            "75v75366                  | 75v75366                  | 0.8683\tTrue\n",
            "96m25310                  | 96m25310                  | 0.9848\tTrue\n",
            "89b64255                  | 89b64255                  | 0.9975\tTrue\n",
            "58n68910                  | 58n68910                  | 0.9921\tTrue\n",
            "24w75236                  | 24w75236                  | 0.9943\tTrue\n",
            "--------------------------------------------------------------------------------\n",
            "[4000/5000] Train loss: 0.01010, Valid loss: 0.50036, Elapsed_time: 4485.63166\n",
            "Current_accuracy : 80.293, Current_norm_ED  : 0.94\n",
            "Best_accuracy    : 80.793, Best_norm_ED     : 0.94\n",
            "--------------------------------------------------------------------------------\n",
            "Ground Truth              | Prediction                | Confidence Score & T/F\n",
            "--------------------------------------------------------------------------------\n",
            "42b37116                  | 42b37116                  | 0.9931\tTrue\n",
            "7j66                      | 37j16                     | 0.8119\tFalse\n",
            "42n26129                  | 42n26129                  | 0.9966\tTrue\n",
            "68q96513                  | 68q96513                  | 0.9983\tTrue\n",
            "55u82544                  | 55u82544                  | 0.8738\tTrue\n",
            "--------------------------------------------------------------------------------\n",
            "[4100/5000] Train loss: 0.02842, Valid loss: 0.49850, Elapsed_time: 4595.64180\n",
            "Current_accuracy : 79.614, Current_norm_ED  : 0.94\n",
            "Best_accuracy    : 80.793, Best_norm_ED     : 0.94\n",
            "--------------------------------------------------------------------------------\n",
            "Ground Truth              | Prediction                | Confidence Score & T/F\n",
            "--------------------------------------------------------------------------------\n",
            "25r71699                  | 25r71699                  | 0.9952\tTrue\n",
            "28q16974                  | 28q16974                  | 0.9979\tTrue\n",
            "45r42741                  | 45r42741                  | 0.9965\tTrue\n",
            "69t67232                  | 69t67223                  | 0.6602\tFalse\n",
            "42h52710                  | 42h52710                  | 0.9953\tTrue\n",
            "--------------------------------------------------------------------------------\n",
            "[4200/5000] Train loss: 0.01184, Valid loss: 0.50368, Elapsed_time: 4705.87549\n",
            "Current_accuracy : 80.293, Current_norm_ED  : 0.94\n",
            "Best_accuracy    : 80.793, Best_norm_ED     : 0.94\n",
            "--------------------------------------------------------------------------------\n",
            "Ground Truth              | Prediction                | Confidence Score & T/F\n",
            "--------------------------------------------------------------------------------\n",
            "72j85799                  | 72j85799                  | 0.9929\tTrue\n",
            "25n26368                  | 25n26368                  | 0.9966\tTrue\n",
            "74v23724                  | 74v23724                  | 0.9968\tTrue\n",
            "39u29449                  | 39u29449                  | 0.9961\tTrue\n",
            "22i22363                  | 22i22363                  | 0.9815\tTrue\n",
            "--------------------------------------------------------------------------------\n",
            "[4300/5000] Train loss: 0.00898, Valid loss: 0.51884, Elapsed_time: 4816.04079\n",
            "Current_accuracy : 80.578, Current_norm_ED  : 0.94\n",
            "Best_accuracy    : 80.793, Best_norm_ED     : 0.94\n",
            "--------------------------------------------------------------------------------\n",
            "Ground Truth              | Prediction                | Confidence Score & T/F\n",
            "--------------------------------------------------------------------------------\n",
            "18m72255                  | 18m72255                  | 0.9949\tTrue\n",
            "94h92738                  | 94h92738                  | 0.9985\tTrue\n",
            "34h75599                  | 34h75599                  | 0.9976\tTrue\n",
            "12l97768                  | 12l97768                  | 0.9988\tTrue\n",
            "44t15714                  | 44t15714                  | 0.9928\tTrue\n",
            "--------------------------------------------------------------------------------\n",
            "[4400/5000] Train loss: 0.00759, Valid loss: 0.52189, Elapsed_time: 4927.26125\n",
            "Current_accuracy : 79.614, Current_norm_ED  : 0.94\n",
            "Best_accuracy    : 80.793, Best_norm_ED     : 0.94\n",
            "--------------------------------------------------------------------------------\n",
            "Ground Truth              | Prediction                | Confidence Score & T/F\n",
            "--------------------------------------------------------------------------------\n",
            "29j89677                  | 29j89677                  | 0.8710\tTrue\n",
            "25j58477                  | 25j58477                  | 0.9978\tTrue\n",
            "97v79299                  | 97v79299                  | 0.9988\tTrue\n",
            "97w44771                  | 97w44771                  | 0.9663\tTrue\n",
            "47t39119                  | 47t39119                  | 0.9976\tTrue\n",
            "--------------------------------------------------------------------------------\n",
            "[4500/5000] Train loss: 0.01458, Valid loss: 0.52778, Elapsed_time: 5038.12034\n",
            "Current_accuracy : 80.650, Current_norm_ED  : 0.94\n",
            "Best_accuracy    : 80.793, Best_norm_ED     : 0.94\n",
            "--------------------------------------------------------------------------------\n",
            "Ground Truth              | Prediction                | Confidence Score & T/F\n",
            "--------------------------------------------------------------------------------\n",
            "26m19216                  | 26m19216                  | 0.9979\tTrue\n",
            "16u81433                  | 16u81433                  | 0.9764\tTrue\n",
            "6b866                     | 7686699                   | 0.5580\tFalse\n",
            "45h92299                  | 45h92299                  | 0.9918\tTrue\n",
            "9r55468                   | 89r55468                  | 0.5455\tFalse\n",
            "--------------------------------------------------------------------------------\n",
            "[4600/5000] Train loss: 0.00614, Valid loss: 0.53481, Elapsed_time: 5150.07651\n",
            "Current_accuracy : 79.650, Current_norm_ED  : 0.94\n",
            "Best_accuracy    : 80.793, Best_norm_ED     : 0.94\n",
            "--------------------------------------------------------------------------------\n",
            "Ground Truth              | Prediction                | Confidence Score & T/F\n",
            "--------------------------------------------------------------------------------\n",
            "26j54367                  | 26j54367                  | 0.9414\tTrue\n",
            "18h14836                  | 18h14836                  | 0.9957\tTrue\n",
            "41h84733                  | 41h84732                  | 0.6942\tFalse\n",
            "47b46216                  | 47b46216                  | 0.9910\tTrue\n",
            "39w46774                  | 39w4674                   | 0.5722\tFalse\n",
            "--------------------------------------------------------------------------------\n",
            "[4700/5000] Train loss: 0.02882, Valid loss: 0.51674, Elapsed_time: 5261.15635\n",
            "Current_accuracy : 79.722, Current_norm_ED  : 0.94\n",
            "Best_accuracy    : 80.793, Best_norm_ED     : 0.94\n",
            "--------------------------------------------------------------------------------\n",
            "Ground Truth              | Prediction                | Confidence Score & T/F\n",
            "--------------------------------------------------------------------------------\n",
            "55u13834                  | 55u13834                  | 0.7958\tTrue\n",
            "19h13466                  | 19h13466                  | 0.9950\tTrue\n",
            "78l73273                  | 78l73273                  | 0.9958\tTrue\n",
            "12j71266                  | 12j71266                  | 0.9968\tTrue\n",
            "21r19311                  | 21r19311                  | 0.9948\tTrue\n",
            "--------------------------------------------------------------------------------\n",
            "[4800/5000] Train loss: 0.03122, Valid loss: 0.48977, Elapsed_time: 5371.89002\n",
            "Current_accuracy : 79.936, Current_norm_ED  : 0.94\n",
            "Best_accuracy    : 80.793, Best_norm_ED     : 0.94\n",
            "--------------------------------------------------------------------------------\n",
            "Ground Truth              | Prediction                | Confidence Score & T/F\n",
            "--------------------------------------------------------------------------------\n",
            "88u86988                  | 88u86988                  | 0.9988\tTrue\n",
            "48q38310                  | 48q38310                  | 0.9755\tTrue\n",
            "93r72112                  | 93r72112                  | 0.9982\tTrue\n",
            "12u24610                  | 12u24610                  | 0.9937\tTrue\n",
            "12j91521                  | 12j91521                  | 0.9965\tTrue\n",
            "--------------------------------------------------------------------------------\n",
            "[4900/5000] Train loss: 0.02511, Valid loss: 0.47943, Elapsed_time: 5482.82704\n",
            "Current_accuracy : 79.793, Current_norm_ED  : 0.94\n",
            "Best_accuracy    : 80.793, Best_norm_ED     : 0.94\n",
            "--------------------------------------------------------------------------------\n",
            "Ground Truth              | Prediction                | Confidence Score & T/F\n",
            "--------------------------------------------------------------------------------\n",
            "12q24779                  | 12q24779                  | 0.9975\tTrue\n",
            "43c87388                  | 43c87388                  | 0.9979\tTrue\n",
            "61j17422                  | 61j17422                  | 0.9966\tTrue\n",
            "34e89111                  | 34e89111                  | 0.9929\tTrue\n",
            "31i13455                  | 31i13455                  | 0.9655\tTrue\n",
            "--------------------------------------------------------------------------------\n",
            "Traceback (most recent call last):\n",
            "  File \"/content/drive/MyDrive/deep-text-recognition-benchmark/train.py\", line 317, in <module>\n",
            "  File \"/content/drive/MyDrive/deep-text-recognition-benchmark/train.py\", line 163, in train\n",
            "    preds = model(image, text[:, :-1])  # align with Attention.forward\n",
            "  File \"/usr/local/lib/python3.10/dist-packages/torch/nn/modules/module.py\", line 1518, in _wrapped_call_impl\n",
            "    return self._call_impl(*args, **kwargs)\n",
            "  File \"/usr/local/lib/python3.10/dist-packages/torch/nn/modules/module.py\", line 1527, in _call_impl\n",
            "    return forward_call(*args, **kwargs)\n",
            "  File \"/usr/local/lib/python3.10/dist-packages/torch/nn/parallel/data_parallel.py\", line 183, in forward\n",
            "    return self.module(*inputs[0], **module_kwargs[0])\n",
            "  File \"/usr/local/lib/python3.10/dist-packages/torch/nn/modules/module.py\", line 1518, in _wrapped_call_impl\n",
            "    return self._call_impl(*args, **kwargs)\n",
            "  File \"/usr/local/lib/python3.10/dist-packages/torch/nn/modules/module.py\", line 1527, in _call_impl\n",
            "    return forward_call(*args, **kwargs)\n",
            "  File \"/content/drive/MyDrive/deep-text-recognition-benchmark/model.py\", line 90, in forward\n",
            "    prediction = self.Prediction(contextual_feature.contiguous(), text, is_train, batch_max_length=self.opt.batch_max_length)\n",
            "  File \"/usr/local/lib/python3.10/dist-packages/torch/nn/modules/module.py\", line 1518, in _wrapped_call_impl\n",
            "    return self._call_impl(*args, **kwargs)\n",
            "  File \"/usr/local/lib/python3.10/dist-packages/torch/nn/modules/module.py\", line 1527, in _call_impl\n",
            "    return forward_call(*args, **kwargs)\n",
            "  File \"/content/drive/MyDrive/deep-text-recognition-benchmark/modules/prediction.py\", line 40, in forward\n",
            "    char_onehots = self._char_to_onehot(text[:, i], onehot_dim=self.num_classes)\n",
            "  File \"/content/drive/MyDrive/deep-text-recognition-benchmark/modules/prediction.py\", line 19, in _char_to_onehot\n",
            "    one_hot = torch.FloatTensor(batch_size, onehot_dim).zero_().to(device)\n",
            "KeyboardInterrupt\n"
          ]
        }
      ],
      "source": [
        "output = !python3 /content/drive/MyDrive/deep-text-recognition-benchmark/train.py \\\n",
        "--train_data /content/drive/MyDrive/deep-text-recognition-benchmark/dataset/train --valid_data /content/drive/MyDrive/deep-text-recognition-benchmark/dataset/validation \\\n",
        "--select_data / --batch_ratio 1 --num_iter 5000 --batch_max_length 8 --valInterval 100 \\\n",
        "--Transformation TPS --FeatureExtraction ResNet --SequenceModeling BiLSTM --Prediction Attn"
      ]
    },
    {
      "cell_type": "markdown",
      "metadata": {
        "id": "TLtzuoPJ7KGU"
      },
      "source": [
        "در فایل train.py ⁉\n",
        "batch_max_length = default=8\n",
        "\n",
        "\n"
      ]
    },
    {
      "cell_type": "markdown",
      "metadata": {
        "id": "2xUCzRV78Dka"
      },
      "source": [
        "num_iter = (300000 / batch size=192 ) / number of batches"
      ]
    },
    {
      "cell_type": "code",
      "source": [
        "!python3 /content/drive/MyDrive/deep-text-recognition-benchmark/demo.py \\\n",
        "--Transformation TPS --FeatureExtraction ResNet --SequenceModeling BiLSTM --Prediction Attn \\\n",
        "--image_folder /content/evaluation/ \\\n",
        "--saved_model /content/saved_models/TPS-ResNet-BiLSTM-Attn-Seed1111/best_accuracy.pth"
      ],
      "metadata": {
        "colab": {
          "base_uri": "https://localhost:8080/"
        },
        "id": "nnZ1rGv1A-X9",
        "outputId": "554312dc-a6d4-49f8-b5a9-4eb4617257f2"
      },
      "execution_count": 14,
      "outputs": [
        {
          "output_type": "stream",
          "name": "stdout",
          "text": [
            "model input parameters 32 100 20 1 512 256 38 25 TPS ResNet BiLSTM Attn\n",
            "loading pretrained model from /content/saved_models/TPS-ResNet-BiLSTM-Attn-Seed1111/best_accuracy.pth\n",
            "/usr/local/lib/python3.10/dist-packages/torch/utils/data/dataloader.py:557: UserWarning: This DataLoader will create 4 worker processes in total. Our suggested max number of worker in current system is 2, which is smaller than what this DataLoader is going to create. Please be aware that excessive worker creation might get DataLoader running slow or even freeze, lower the worker number to avoid potential slowness/freeze if necessary.\n",
            "  warnings.warn(_create_warning_msg(\n",
            "--------------------------------------------------------------------------------\n",
            "image_path               \tpredicted_labels         \tconfidence score\n",
            "--------------------------------------------------------------------------------\n",
            "/content/evaluation/00052.jpg\t12a38211                 \t0.4725\n",
            "/content/evaluation/00361.jpg\t12e79911                 \t0.4301\n",
            "/content/evaluation/00808.jpg\t57t55                    \t0.5787\n",
            "/content/evaluation/00888.jpg\t37t94263                 \t0.9925\n",
            "/content/evaluation/01695.jpg\t12a3871                  \t0.3253\n",
            "/content/evaluation/03402.jpg\t59h71555                 \t0.9963\n",
            "/content/evaluation/05038.jpg\t89n99313                 \t0.9941\n",
            "/content/evaluation/05808.jpg\t29n11577                 \t0.9359\n",
            "/content/evaluation/08117.jpg\t95l29811                 \t0.9947\n",
            "/content/evaluation/08127.jpg\t94l98788                 \t0.9965\n",
            "/content/evaluation/09996.jpg\t5rr2728                  \t0.0857\n",
            "/content/evaluation/10339.jpg\t92c87422                 \t0.9972\n",
            "/content/evaluation/10739.jpg\t26c69811                 \t0.9975\n",
            "/content/evaluation/11499.jpg\t46c69744                 \t0.9738\n",
            "/content/evaluation/13038.jpg\t28v49134                 \t0.9968\n",
            "/content/evaluation/13288.jpg\t14v82134                 \t0.9975\n",
            "/content/evaluation/15231.jpg\t68j37436                 \t0.9984\n",
            "/content/evaluation/15471.jpg\t35j14468                 \t0.9977\n",
            "/content/evaluation/17965.jpg\t11b65516                 \t0.9984\n",
            "/content/evaluation/20092.jpg\t49m89812                 \t0.9990\n",
            "/content/evaluation/20182.jpg\t79m96733                 \t0.9938\n",
            "/content/evaluation/20917.jpg\t52q21829                 \t0.9949\n",
            "/content/evaluation/22077.jpg\t83q29877                 \t0.9939\n",
            "/content/evaluation/22477.jpg\t91q97821                 \t0.9972\n",
            "/content/evaluation/24336.jpg\t93u12734                 \t0.9968\n",
            "/content/evaluation/24346.jpg\t11u78411                 \t0.9990\n",
            "/content/evaluation/24786.jpg\t58u84310                 \t0.9891\n",
            "/content/evaluation/24796.jpg\t16u81433                 \t0.9938\n",
            "/content/evaluation/24836.jpg\t74u19423                 \t0.9960\n",
            "/content/evaluation/26082.jpg\t74w16447                 \t0.9981\n",
            "/content/evaluation/26182.jpg\t57w12316                 \t0.9981\n",
            "/content/evaluation/26522.jpg\t7ww7199                  \t0.0501\n",
            "/content/evaluation/26532.jpg\t74w7166                  \t0.8765\n",
            "/content/evaluation/27692.jpg\t25w58818                 \t0.9978\n",
            "/content/evaluation/IMG_20231128_225637.jpg\t12l17210                 \t0.9982\n"
          ]
        }
      ]
    }
  ],
  "metadata": {
    "accelerator": "GPU",
    "colab": {
      "provenance": []
    },
    "kernelspec": {
      "display_name": "Python 3",
      "name": "python3"
    },
    "language_info": {
      "name": "python"
    }
  },
  "nbformat": 4,
  "nbformat_minor": 0
}